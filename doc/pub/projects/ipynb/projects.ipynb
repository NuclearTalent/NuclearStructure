{
 "cells": [
  {
   "cell_type": "markdown",
   "metadata": {},
   "source": [
    "<!-- dom:TITLE: Shell-model project for Nuclear Talent course -->\n",
    "# Shell-model project for Nuclear Talent course\n",
    "<!-- dom:AUTHOR: European Center for Theoretical Studies in Nuclear Physics and Related Areas, Trento, Italy, 3-21 July, 2017 -->\n",
    "<!-- Author: -->  \n",
    "**European Center for Theoretical Studies in Nuclear Physics and Related Areas, Trento, Italy, 3-21 July, 2017**\n",
    "\n",
    "Date: **Jun 28, 2017**\n",
    "\n",
    "## Introduction\n",
    "\n",
    "\n",
    "The aim of this project is to study a simple pairing model and thereafter construct a shell-model program which finds the eigenvalues.\n",
    "The model is simple enough that closed-form solutions can be found, allowing thereby for useful tests of shell-model codes or other\n",
    "numerical approaches to Schroedinger's equation. \n",
    "\n",
    "In this project we will thus work with a simplified Hamiltonian consisting of a one-body operator and a so-called \n",
    " pairing interaction term. It is a model which to a large extent mimicks some central features of\n",
    "atomic nuclei, certain atoms and systems which exhibit superfluiditity or superconductivity.  \n",
    "Pairing plays a central role in nuclear physics, in particular, for identical particles it makes up large fractions of the correlations among particles. The partial wave $^{1}S_0$ of the nucleon-nucleon force plays a central role in setting up pairing correlations in nuclei. Without this particular partial wave, the $J=0$ ground state spin assignment for many nuclei with even numbers of particles would not be possible. \n",
    "\n",
    "\n",
    "We define first the Hamiltonian, with a definition of the model space and\n",
    "the single-particle basis. Thereafter, we present the various exercises.\n",
    "\n",
    "The Hamiltonian acting in the complete Hilbert space (usually infinite\n",
    "dimensional) consists of an unperturbed one-body part, $\\hat{H}_0$,\n",
    "and a perturbation $\\hat{H}_I$. \n",
    "\n",
    "We limit ourselves to at most two-body interactions, our Hamiltonian  is \n",
    "then represented by the following operators"
   ]
  },
  {
   "cell_type": "markdown",
   "metadata": {},
   "source": [
    "<!-- Equation labels as ordinary links -->\n",
    "<div id=\"eq:hamiltonian\"></div>\n",
    "\n",
    "$$\n",
    "\\begin{equation}\n",
    "\\hat{H} = \\hat{H}_0 +\\hat{H}_I=\\sum_{pq}\\langle p |h_0|q\\rangle a_{p}^{\\dagger}a_{q} +\\frac{1}{4}\\sum_{pqrs}\\langle pq| V|rs\\rangle a_{p}^{\\dagger}a_{q}^{\\dagger}a_{s}a_{r},\n",
    "\\label{eq:hamiltonian} \\tag{1}\n",
    "\\end{equation}\n",
    "$$"
   ]
  },
  {
   "cell_type": "markdown",
   "metadata": {},
   "source": [
    "where $a_{p}^{\\dagger}$ and $a_{q}$ etc. are standard fermion creation and annihilation operators, respectively,\n",
    "and $pqrs$ represent all possible single-particle quantum numbers. \n",
    "The full single-particle space is defined by the completeness relation\n",
    "$\\hat{**1**} = \\sum_{p =1}^{\\infty}|p \\rangle \\langle p|$.\n",
    "In our calculations  we will let  the single-particle states $|p\\rangle$\n",
    "be eigenfunctions of  the one-particle operator $\\hat{h}_0$. \n",
    "\n",
    "\n",
    "The above Hamiltonian \n",
    "acts in turn on various many-body Slater determinants constructed from the single-basis defined by the one-body\n",
    "operator $\\hat{h}_0$.    \n",
    "\n",
    "Our specific model consists of only $2$ doubly-degenerate and equally spaced\n",
    "single-particle levels labeled by $p=1,2,\\dots$ and spin $\\sigma=\\pm\n",
    "1$.  \n",
    "In Eq. ([eq:hamiltonian](#eq:hamiltonian)) the labels $pqrs$ could also include spin $\\sigma$. From now and for the rest of this project, labels like $pqrs$ represent the states without spin. The spin quantum numbers need to be accounted for explicitely.\n",
    "\n",
    "We write\n",
    "the Hamiltonian as"
   ]
  },
  {
   "cell_type": "markdown",
   "metadata": {},
   "source": [
    "$$\n",
    "\\hat{H} = \\hat{H}_0 +\\hat{H}_I=\\hat{H}_0 + \\hat{V} ,\n",
    "$$"
   ]
  },
  {
   "cell_type": "markdown",
   "metadata": {},
   "source": [
    "where"
   ]
  },
  {
   "cell_type": "markdown",
   "metadata": {},
   "source": [
    "$$\n",
    "\\hat{H}_0=\\xi\\sum_{p\\sigma}(p-1)a_{p\\sigma}^{\\dagger}a_{p\\sigma}.\n",
    "$$"
   ]
  },
  {
   "cell_type": "markdown",
   "metadata": {},
   "source": [
    "Here, $H_0$ is the unperturbed Hamiltonian with a spacing between\n",
    "successive single-particle states given by $\\xi$, which we will set to\n",
    "a constant value $\\xi=1$ without loss of generality.\n",
    "\n",
    "The two-body\n",
    "operator $\\hat{V}$ has one term only. It represents the\n",
    "pairing contribution and carries a constant strength $g$\n",
    "and is  given by"
   ]
  },
  {
   "cell_type": "markdown",
   "metadata": {},
   "source": [
    "$$\n",
    "\\langle q+q-| V|s+s-\\rangle  = -g\n",
    "$$"
   ]
  },
  {
   "cell_type": "markdown",
   "metadata": {},
   "source": [
    "where $g$ is a constant. The above labeling means that for a  general matrix elements\n",
    "$\\langle pq| V|rs\\rangle$ we require that the states $p$ and $q$ (and $r$ and $s$) have the same number \n",
    "quantum number $q$ but opposite spins. The two spins values are\n",
    "$\\sigma = \\pm 1$.  \n",
    "**Note: you need to figure out how to make the two-body interaction antisymmetric.**\n",
    "The variables $\\sigma=\\pm$ represent the two possible spin values. The \n",
    "interaction can only couple pairs and excites therefore only two\n",
    "particles at the time.\n",
    "\n",
    "\n",
    "In our model we have kept both the interaction strength and the single-particle level as constants.\n",
    "In a realistic system like the atomic  nucleus this is not the case. \n",
    "\n",
    "\n",
    "\n",
    "The   unperturbed Hamiltonian  $\\hat{H}_0$ and $\\hat{V}$ both commute\n",
    "with  the spin projection $\\hat{S}_z$ and the total spin\n",
    "$\\hat{S}^2$.\n",
    "This is an important feature of our system that allows us to block-diagonalize\n",
    "the full Hamiltonian. In this project we will focus only on total spin $S=0$, this case is normally called the no-broken pair case. \n",
    "\n",
    "### Paper and pencil gym while the wait for more serious stuff\n",
    "\n",
    "Show that the\n",
    "unperturbed Hamiltonian  $\\hat{H}_0$ and $\\hat{V}$ commute\n",
    "with both the spin projection $\\hat{S}_z$ and the total spin\n",
    "$\\hat{S}^2$, given by"
   ]
  },
  {
   "cell_type": "markdown",
   "metadata": {},
   "source": [
    "$$\n",
    "\\hat{S}_z := \\frac{1}{2}\\sum_{p\\sigma} \\sigma a^\\dag_{p\\sigma}a_{p\\sigma}\n",
    "$$"
   ]
  },
  {
   "cell_type": "markdown",
   "metadata": {},
   "source": [
    "and"
   ]
  },
  {
   "cell_type": "markdown",
   "metadata": {},
   "source": [
    "$$\n",
    "\\hat{S}^2 := \\hat{S}_z^2 + \\frac{1}{2}(\\hat{S}_+\\hat{S}_- +\n",
    "  \\hat{S}_-\\hat{S}_+),\n",
    "$$"
   ]
  },
  {
   "cell_type": "markdown",
   "metadata": {},
   "source": [
    "where"
   ]
  },
  {
   "cell_type": "markdown",
   "metadata": {},
   "source": [
    "$$\n",
    "\\hat{S}_\\pm := \\sum_{p} a^\\dag_{p\\pm} a_{p\\mp}.\n",
    "$$"
   ]
  },
  {
   "cell_type": "markdown",
   "metadata": {},
   "source": [
    "This is an important feature of our system that allows us to block-diagonalize\n",
    "the full Hamiltonian. We will focus on total spin $S=0$.\n",
    "In this case, it is convenient to define the so-called pair creation and pair\n",
    "annihilation operators"
   ]
  },
  {
   "cell_type": "markdown",
   "metadata": {},
   "source": [
    "$$\n",
    "\\hat{P}^{+}_p = a^\\dag_{p+}a^\\dag_{p-},\n",
    "$$"
   ]
  },
  {
   "cell_type": "markdown",
   "metadata": {},
   "source": [
    "and"
   ]
  },
  {
   "cell_type": "markdown",
   "metadata": {},
   "source": [
    "$$\n",
    "\\hat{P}^{-}_p = a_{p-}a_{p+},\n",
    "$$"
   ]
  },
  {
   "cell_type": "markdown",
   "metadata": {},
   "source": [
    "respectively.\n",
    "\n",
    "The Hamiltonian (with $\\xi=1$) we will use can be written as"
   ]
  },
  {
   "cell_type": "markdown",
   "metadata": {},
   "source": [
    "$$\n",
    "\\hat{H}=\\sum_{p\\sigma}(p-1)a_{p\\sigma}^{\\dagger}a_{p\\sigma}\n",
    "-g\\sum_{pq}\\hat{P}^{+}_p\\hat{P}^{-}_q.\n",
    "$$"
   ]
  },
  {
   "cell_type": "markdown",
   "metadata": {},
   "source": [
    "Show  that Hamiltonian commutes with the product of the pair creation and annihilation operators.\n",
    "This model corresponds to a system with no broken pairs. This means that the Hamiltonian can only link two-particle states in so-called spin-reversed states. \n",
    "\n",
    "\n",
    "### Simpler case\n",
    "\n",
    "Assume now that the effective Hilbert space consists only of the two lowest single-particle states and that we have two particles only.\n",
    "Set up the possible two-particle configurations when we have only two single-particle states, that is $p=1$ and $p=2$. \n",
    "Construct thereafter the Hamiltonian matrix using second quantization and for example Wick's theorem \n",
    "for a system with no broken pairs and spin $S=0$ (with projection $S_z=0$) for the case of the two lowest single-particle levels  and two particles only.  This gives you a\n",
    " $2\\times 2$ matrix to be diagonalized. \n",
    "\n",
    "Find the eigenvalues by diagonalizing the Hamiltonian matrix.\n",
    "Vary your results for selected values of $g\\in [-1,1]$ and comment your results.\n",
    "\n",
    "### Setting up the Hamiltonian matrix\n",
    "\n",
    "Construct thereafter the Hamiltonian matrix for a system with no broken pairs and spin $S=0$ for the case of the four lowest single-particle levels. Our system consists of four particles only.\n",
    "Our single-particle space consists of only the four lowest levels \n",
    "$p=1,2,3,4$.  You need to set up all possible Slater determinants and the Hamiltonian matrix using second quantization and\n",
    "find all eigenvalues by diagonalizing the Hamiltonian matrix.\n",
    "Vary your results for values of $g\\in [-1,1]$.  Your Hamiltonian matrix is a $6\\times 6$ matrix. \n",
    "These results will serve as a benchmark for the construction  of our shell-model program. \n",
    "We  refer to this as the exact results. Comment the behavior of the ground state as function of $g$. \n",
    "\n",
    "### Diagonalizing the Hamiltonian matrix\n",
    "\n",
    "Our next step is to develop a code which sets up the above Hamiltonian matrices for two and four particles in 2 and 4 single-particles states (the same as what you did in exercises b) and c) and obtain the eigenvalues.\n",
    "To achieve this you should\n",
    "\n",
    "* Decide whether you want to read from file the single-particle data and the matrix elements in $m$-scheme, or set them up internally in your code. The latter is the simplest possibility for the pairing model, whereas the first option gives you a more general code which can be extended to more realistic cases. The final oral project could thus be an extension of this program.\n",
    "\n",
    "* Based on the single-particle basis, write a function which sets up all possible Slater determinants which have total $M=0$.  Test that this function  reproduces the cases in b) and c). If you make this function more general, it can then be reused for say a shell-model calculation of $sd$-shell nuclei.\n",
    "\n",
    "* Use the Slater determinant basis from the previous step to set up the Hamiltonian matrix.\n",
    "\n",
    "* With the Hamiltonian matrix, you can finally diagonalize the matrix and obtain the final eigenvalues and test against the results of b) and c).\n",
    "\n",
    "Codes to diagonalize in C++ or Fortran can be provided. For Python, numpy contains eigenvalue solvers based on for example Householder's and Givens' algorithms.   These are topics which can we discuss separately. The lecture slides contain a rather detailed recipe\n",
    "on how to construct a Slater determinant basis and how to set up the Hamiltonian matrix to diagonalize.\n",
    "\n",
    "### Further benchmarks\n",
    "\n",
    "In developing the code it also useful to test against cases which have closed-form solutions. One obvious case is that of removing the \n",
    "two-body interaction. Then we have only the single-particle energies.\n",
    "For the case of degenerete single-particle orbits, that is one value of total single-particle angular momentum only $j$, with degeneracy $\\Omega=2j+1$, one can show that the ground state energy $E_0$ is with $n$ particles"
   ]
  },
  {
   "cell_type": "markdown",
   "metadata": {},
   "source": [
    "$$\n",
    "E_0= -\\frac{g}{4}n\\left(\\Omega-n+2\\right).\n",
    "$$"
   ]
  },
  {
   "cell_type": "markdown",
   "metadata": {},
   "source": [
    "Enlarge now your system to six and eight fermions and to $p=6$ and $p=8$ single-particle states, respectively. Run your program for a degenerate single-particle state with degeneracy $\\Omega$ and test\n",
    "against the exact result for the ground state. Introduce thereafter a finite single-particle spacing and study the results as you vary $g$,  as done in b) and c). Comment your results. \n",
    "\n",
    "\n",
    "The way we will set up the Slater determinants here follows a simple odometric recipe. The way it is done in more professional codes, is to use bitwise manipulations. If this is of interest, this project could form the basis for the development of a more advanced code\n",
    "to be presented at the final oral exam. Another alternative is to study algorithms for exact solutions of the pairing model with many fermions. This could also form the basis for the final oral presentation.  \n",
    "\n",
    "\n",
    "This project consists of at least two possible paths. The first three points below aim at performing shell-model studies of the oxygen isotopes using standard\n",
    "effective interactions (provided by us) using the $1s0d$ shell as the model space.  If on the other hand you wish to continue with the pairing model from the project, the last two points may allow for that.\n",
    "The aim of this project is mainly to extend the code you developed under the project in order to be able to study more realistic problems or continue your studies of the simple pairing model. In both cases you can quickly come into situations where the matrix is too large to store.  You will also need to consider a bit representation and manipulation of Slater determinants and to implement \n",
    "the Lanczos algorithm. \n",
    "\n",
    "\n",
    "\n",
    "  * For the shell-model part you need now to read in your data from file, both the single-particle states and the effective interaction. At the end of this file, you will find the USDB ($1s0d$-shell effective interaction, see refeence 1 for more background literature).  If you have not done so, rewrite your code from the project so that you can read in this interaction.\n",
    "\n",
    "  * For the oxygen isotopes you can actually use your previous program and perform shell-model calculations of the oxygen isotopes using the $1s0d$ shell. Your results should agree with those obtained using Alex Brown's code Nushellx. Compute the spectra of the 3-4 lowest lying states of the oxygen isotopes from $^{18}$O to $^{28}$O and compare with data and the Alex Brown's results.\n",
    "\n",
    "  * The code we wrote in the project  was however not very efficient, unless you already implemented the bit representation. As an optional challenge, you may now wish to consider the inclusion of a bit representation along the lines discussed in the lecture slides, and inserted below here as well.  Reference 2, included in the project material may be useful as well. Note that this part may quickly become time consuming.\n",
    "\n",
    "  * As an alternative to all of the above, you may wish to continue your studies of the pairing model. You should then extend the program from the project  in order to be able to deal with broken pairs as well. Since you found that your Hamiltonian commutes with the pair creation operators and the spin operators, you can block-diagonalize your matrix in blocks with zero broken pairs (so-called seniority zero), one broken pair (seniority two), two broken pairs etc.  Perform now shell-model calculations for the pairing model by including also one and two broken pairs. How does the ground state evolve (no broken pairs) compared with the lowest-lying state with one broken pair? How would you define the pairing gap?\n",
    "\n",
    "  * As an extension to the last point, you may consider relating the results from the previous point to ongoing literature on so-called exact pairing, see for example the third reference below.\n",
    "\n",
    "# Bit representation\n",
    "\n",
    "In the build-up of a shell model code that is meant to tackle large dimensionalities\n",
    "is the action of the Hamiltonian $\\hat{H}$ on a \n",
    "Slater determinant represented in second quantization as"
   ]
  },
  {
   "cell_type": "markdown",
   "metadata": {},
   "source": [
    "$$\n",
    "\\vert \\alpha_1\\dots \\alpha_n\\rangle = a_{\\alpha_1}^\\dagger a_{\\alpha_2}^\\dagger \\dots a_{\\alpha_n}^\\dagger \\vert 0\\rangle.\n",
    "$$"
   ]
  },
  {
   "cell_type": "markdown",
   "metadata": {},
   "source": [
    "The time consuming part stems from the action of the Hamiltonian\n",
    "on the above determinant,"
   ]
  },
  {
   "cell_type": "markdown",
   "metadata": {},
   "source": [
    "$$\n",
    "\\left(\\sum_{\\alpha\\beta} \\langle \\alpha\\vert \\hat{t}+\\hat{u}\\vert \\beta\\rangle a_\\alpha^\\dagger a_\\beta + \\frac{1}{4} \\sum_{\\alpha\\beta\\gamma\\delta}\n",
    "\\langle\\alpha \\beta\\vert \\hat{V}\\vert \\gamma \\delta\\rangle a_\\alpha^\\dagger a_\\beta^\\dagger a_\\delta a_\\gamma\\right)a_{\\alpha_1}^\\dagger a_{\\alpha_2}^\\dagger \\dots a_{\\alpha_n}^\\dagger \\vert 0\\rangle.\n",
    "$$"
   ]
  },
  {
   "cell_type": "markdown",
   "metadata": {},
   "source": [
    "A practically useful way to implement this action is to encode a Slater determinant as a bit pattern. \n",
    "Assume that we have at our disposal $n$ different single-particle orbits\n",
    "$\\alpha_0,\\alpha_2,\\dots,\\alpha_{n-1}$ and that we can distribute  among these orbits $N\\le n$ particles.\n",
    "\n",
    "A Slater  determinant can then be coded as an integer of $n$ bits. As an example, if we have $n=16$ single-particle states\n",
    "$\\alpha_0,\\alpha_1,\\dots,\\alpha_{15}$ and $N=4$ fermions occupying the states $\\alpha_3$, $\\alpha_6$, $\\alpha_{10}$ and $\\alpha_{13}$\n",
    "we could write this Slater determinant as"
   ]
  },
  {
   "cell_type": "markdown",
   "metadata": {},
   "source": [
    "$$\n",
    "\\Phi_{\\Lambda} = a_{\\alpha_3}^\\dagger a_{\\alpha_6}^\\dagger a_{\\alpha_{10}}^\\dagger a_{\\alpha_{13}}^\\dagger \\vert 0 \\rangle .\n",
    "$$"
   ]
  },
  {
   "cell_type": "markdown",
   "metadata": {},
   "source": [
    "The unoccupied single-particle states have bit value $0$ while the occupied ones are represented by bit state $1$. \n",
    "In the binary notation we would write this   16 bits long integer as"
   ]
  },
  {
   "cell_type": "markdown",
   "metadata": {},
   "source": [
    "$$\n",
    "\\begin{array}{cccccccccccccccc}\n",
    "{\\alpha_0}&{\\alpha_1}&{\\alpha_2}&{\\alpha_3}&{\\alpha_4}&{\\alpha_5}&{\\alpha_6}&{\\alpha_7} & {\\alpha_8} &{\\alpha_9} & {\\alpha_{10}} &{\\alpha_{11}} &{\\alpha_{12}} &{\\alpha_{13}} &{\\alpha_{14}} & {\\alpha_{15}} \\\\\n",
    "{0} & {0} &{0} &{1} &{0} &{0} &{1} &{0} &{0} &{0} &{1} &{0} &{0} &{1} &{0} & {0} \\\\\n",
    "\\end{array}\n",
    "$$"
   ]
  },
  {
   "cell_type": "markdown",
   "metadata": {},
   "source": [
    "which translates into the decimal number"
   ]
  },
  {
   "cell_type": "markdown",
   "metadata": {},
   "source": [
    "$$\n",
    "2^3+2^6+2^{10}+2^{13}=9288.\n",
    "$$"
   ]
  },
  {
   "cell_type": "markdown",
   "metadata": {},
   "source": [
    "We can thus encode a Slater determinant as a bit pattern.\n",
    "With $N$ particles that can be distributed over $n$ single-particle states, the total number of Slater determinats (and defining thereby the dimensionality of the system) is"
   ]
  },
  {
   "cell_type": "markdown",
   "metadata": {},
   "source": [
    "$$\n",
    "\\mathrm{dim}(\\mathcal{H}) = \\left(\\begin{array}{c} n \\\\N\\end{array}\\right).\n",
    "$$"
   ]
  },
  {
   "cell_type": "markdown",
   "metadata": {},
   "source": [
    "The total number of bit patterns is $2^n$. \n",
    "We assume again that we have at our disposal $n$ different single-particle orbits\n",
    "$\\alpha_0,\\alpha_2,\\dots,\\alpha_{n-1}$ and that we can distribute  among these orbits $N\\le n$ particles.\n",
    "The ordering among these states is important as it defines the order of the creation operators.\n",
    "We will write the determinant"
   ]
  },
  {
   "cell_type": "markdown",
   "metadata": {},
   "source": [
    "$$\n",
    "\\Phi_{\\Lambda} = a_{\\alpha_3}^\\dagger a_{\\alpha_6}^\\dagger a_{\\alpha_{10}}^\\dagger a_{\\alpha_{13}}^\\dagger \\vert 0 \\rangle ,\n",
    "$$"
   ]
  },
  {
   "cell_type": "markdown",
   "metadata": {},
   "source": [
    "in a more compact way as"
   ]
  },
  {
   "cell_type": "markdown",
   "metadata": {},
   "source": [
    "$$\n",
    "\\Phi_{3,6,10,13} = |0001001000100100\\rangle.\n",
    "$$"
   ]
  },
  {
   "cell_type": "markdown",
   "metadata": {},
   "source": [
    "The action of a creation operator is thus"
   ]
  },
  {
   "cell_type": "markdown",
   "metadata": {},
   "source": [
    "$$\n",
    "a^\\dagger_{\\alpha_4}\\Phi_{3,6,10,13} = a^\\dagger_{\\alpha_4}|0001001000100100\\rangle=a^\\dagger_{\\alpha_4}a_{\\alpha_3}^\\dagger a_{\\alpha_6}^\\dagger a_{\\alpha_{10}}^\\dagger a_{\\alpha_{13}}^\\dagger \\vert 0 \\rangle ,\n",
    "$$"
   ]
  },
  {
   "cell_type": "markdown",
   "metadata": {},
   "source": [
    "which becomes"
   ]
  },
  {
   "cell_type": "markdown",
   "metadata": {},
   "source": [
    "$$\n",
    "-a_{\\alpha_3}^\\dagger a^\\dagger_{\\alpha_4} a_{\\alpha_6}^\\dagger a_{\\alpha_{10}}^\\dagger a_{\\alpha_{13}}^\\dagger \\vert 0 \\rangle =-|0001101000100100\\rangle.\n",
    "$$"
   ]
  },
  {
   "cell_type": "markdown",
   "metadata": {},
   "source": [
    "Similarly"
   ]
  },
  {
   "cell_type": "markdown",
   "metadata": {},
   "source": [
    "$$\n",
    "a^\\dagger_{\\alpha_6}\\Phi_{3,6,10,13} = a^\\dagger_{\\alpha_6}|0001001000100100\\rangle=a^\\dagger_{\\alpha_6}a_{\\alpha_3}^\\dagger a_{\\alpha_6}^\\dagger a_{\\alpha_{10}}^\\dagger a_{\\alpha_{13}}^\\dagger \\vert 0 \\rangle ,\n",
    "$$"
   ]
  },
  {
   "cell_type": "markdown",
   "metadata": {},
   "source": [
    "which becomes"
   ]
  },
  {
   "cell_type": "markdown",
   "metadata": {},
   "source": [
    "$$\n",
    "-a^\\dagger_{\\alpha_4} (a_{\\alpha_6}^\\dagger)^ 2 a_{\\alpha_{10}}^\\dagger a_{\\alpha_{13}}^\\dagger \\vert 0 \\rangle =0!\n",
    "$$"
   ]
  },
  {
   "cell_type": "markdown",
   "metadata": {},
   "source": [
    "This gives a simple recipe:  \n",
    "\n",
    "  * If one of the bits $b_j$ is $1$ and we act with a creation operator on this bit, we return a null vector\n",
    "\n",
    "  * If $b_j=0$, we set it to $1$ and return a sign factor $(-1)^l$, where $l$ is the number of bits set before bit $j$.\n",
    "\n",
    "Consider the action of $a^\\dagger_{\\alpha_2}$ on various slater determinants:"
   ]
  },
  {
   "cell_type": "markdown",
   "metadata": {},
   "source": [
    "$$\n",
    "\\begin{array}{ccc}\n",
    "a^\\dagger_{\\alpha_2}\\Phi_{00111}& = a^\\dagger_{\\alpha_2}|00111\\rangle&=0\\times |00111\\rangle\\\\\n",
    "a^\\dagger_{\\alpha_2}\\Phi_{01011}& = a^\\dagger_{\\alpha_2}|01011\\rangle&=(-1)\\times |01111\\rangle\\\\\n",
    "a^\\dagger_{\\alpha_2}\\Phi_{01101}& = a^\\dagger_{\\alpha_2}|01101\\rangle&=0\\times |01101\\rangle\\\\\n",
    "a^\\dagger_{\\alpha_2}\\Phi_{01110}& = a^\\dagger_{\\alpha_2}|01110\\rangle&=0\\times |01110\\rangle\\\\\n",
    "a^\\dagger_{\\alpha_2}\\Phi_{10011}& = a^\\dagger_{\\alpha_2}|10011\\rangle&=(-1)\\times |10111\\rangle\\\\\n",
    "a^\\dagger_{\\alpha_2}\\Phi_{10101}& = a^\\dagger_{\\alpha_2}|10101\\rangle&=0\\times |10101\\rangle\\\\\n",
    "a^\\dagger_{\\alpha_2}\\Phi_{10110}& = a^\\dagger_{\\alpha_2}|10110\\rangle&=0\\times |10110\\rangle\\\\\n",
    "a^\\dagger_{\\alpha_2}\\Phi_{11001}& = a^\\dagger_{\\alpha_2}|11001\\rangle&=(+1)\\times |11101\\rangle\\\\\n",
    "a^\\dagger_{\\alpha_2}\\Phi_{11010}& = a^\\dagger_{\\alpha_2}|11010\\rangle&=(+1)\\times |11110\\rangle\\\\\n",
    "\\end{array}\n",
    "$$"
   ]
  },
  {
   "cell_type": "markdown",
   "metadata": {},
   "source": [
    "What is the simplest way to obtain the phase when we act with one annihilation(creation) operator\n",
    "on the given Slater determinant representation?\n",
    "We have an SD representation"
   ]
  },
  {
   "cell_type": "markdown",
   "metadata": {},
   "source": [
    "$$\n",
    "\\Phi_{\\Lambda} = a_{\\alpha_0}^\\dagger a_{\\alpha_3}^\\dagger a_{\\alpha_6}^\\dagger a_{\\alpha_{10}}^\\dagger a_{\\alpha_{13}}^\\dagger \\vert 0 \\rangle ,\n",
    "$$"
   ]
  },
  {
   "cell_type": "markdown",
   "metadata": {},
   "source": [
    "in a more compact way as"
   ]
  },
  {
   "cell_type": "markdown",
   "metadata": {},
   "source": [
    "$$\n",
    "\\Phi_{0,3,6,10,13} = |1001001000100100\\rangle.\n",
    "$$"
   ]
  },
  {
   "cell_type": "markdown",
   "metadata": {},
   "source": [
    "The action of"
   ]
  },
  {
   "cell_type": "markdown",
   "metadata": {},
   "source": [
    "$$\n",
    "a^\\dagger_{\\alpha_4}a_{\\alpha_0}\\Phi_{0,3,6,10,13} = a^\\dagger_{\\alpha_4}|0001001000100100\\rangle=a^\\dagger_{\\alpha_4}a_{\\alpha_3}^\\dagger a_{\\alpha_6}^\\dagger a_{\\alpha_{10}}^\\dagger a_{\\alpha_{13}}^\\dagger \\vert 0 \\rangle ,\n",
    "$$"
   ]
  },
  {
   "cell_type": "markdown",
   "metadata": {},
   "source": [
    "which becomes"
   ]
  },
  {
   "cell_type": "markdown",
   "metadata": {},
   "source": [
    "$$\n",
    "-a_{\\alpha_3}^\\dagger a^\\dagger_{\\alpha_4} a_{\\alpha_6}^\\dagger a_{\\alpha_{10}}^\\dagger a_{\\alpha_{13}}^\\dagger \\vert 0 \\rangle =-|0001101000100100\\rangle.\n",
    "$$"
   ]
  },
  {
   "cell_type": "markdown",
   "metadata": {},
   "source": [
    "The action"
   ]
  },
  {
   "cell_type": "markdown",
   "metadata": {},
   "source": [
    "$$\n",
    "a_{\\alpha_0}\\Phi_{0,3,6,10,13} = |0001001000100100\\rangle,\n",
    "$$"
   ]
  },
  {
   "cell_type": "markdown",
   "metadata": {},
   "source": [
    "can be obtained by subtracting the logical sum (AND operation) of $\\Phi_{0,3,6,10,13}$ and \n",
    "a word which represents only $\\alpha_0$, that is"
   ]
  },
  {
   "cell_type": "markdown",
   "metadata": {},
   "source": [
    "$$\n",
    "|1000000000000000\\rangle,\n",
    "$$"
   ]
  },
  {
   "cell_type": "markdown",
   "metadata": {},
   "source": [
    "from $\\Phi_{0,3,6,10,13}= |1001001000100100\\rangle$.\n",
    "\n",
    "This operation gives $|0001001000100100\\rangle$. \n",
    "\n",
    "Similarly, we can form $a^\\dagger_{\\alpha_4}a_{\\alpha_0}\\Phi_{0,3,6,10,13}$, say, by adding \n",
    "$|0000100000000000\\rangle$ to $a_{\\alpha_0}\\Phi_{0,3,6,10,13}$, first checking that their logical sum\n",
    "is zero in order to make sure that orbital $\\alpha_4$ is not already occupied. \n",
    "It is trickier however to get the phase $(-1)^l$. \n",
    "One possibility is as follows\n",
    "\n",
    "  * Let $S_1$ be a word that represents the $1-$bit to be removed and all others set to zero. In the previous example $S_1=|1000000000000000\\rangle$\n",
    "\n",
    "  * Define $S_2$ as the similar word that represents the bit to be added, that is in our case $S_2=|0000100000000000\\rangle$.\n",
    "\n",
    "  * Compute then $S=S_1-S_2$, which here becomes"
   ]
  },
  {
   "cell_type": "markdown",
   "metadata": {},
   "source": [
    "$$\n",
    "S=|0111000000000000\\rangle\n",
    "$$"
   ]
  },
  {
   "cell_type": "markdown",
   "metadata": {},
   "source": [
    "* Perform then the logical AND operation of $S$ with the word containing"
   ]
  },
  {
   "cell_type": "markdown",
   "metadata": {},
   "source": [
    "$$\n",
    "\\Phi_{0,3,6,10,13} = |1001001000100100\\rangle,\n",
    "$$"
   ]
  },
  {
   "cell_type": "markdown",
   "metadata": {},
   "source": [
    "which results in $|0001000000000000\\rangle$. Counting the number of $1-$bits gives the phase.  Here you need however an algorithm for bitcounting. Several efficient ones available. \n",
    "\n",
    "This algorithm is described in reference 2 below. \n",
    "\n",
    "\n",
    "\n",
    "1. B. A. Brown and W. A. Richter, Phys. Rev. C **74**,  034315 (2006).\n",
    "\n",
    "2. R. R. .Whitehead *et al.*, Adv. Nucl. Phys. **9**, 123 (1977).\n",
    "\n",
    "3. J. Dukelsky and S. Pittel, preprint arxiv 1204.2950"
   ]
  }
 ],
 "metadata": {},
 "nbformat": 4,
 "nbformat_minor": 0
}
