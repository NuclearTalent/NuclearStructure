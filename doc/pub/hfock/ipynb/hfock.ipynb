{
 "cells": [
  {
   "cell_type": "markdown",
   "metadata": {},
   "source": [
    "<!-- dom:TITLE: Hartree-Fock -->\n",
    "# Hartree-Fock\n",
    "<!-- dom:AUTHOR: Morten Hjorth-Jensen at [National Superconducting Cyclotron Laboratory](http://www.nscl.msu.edu/) and [Department of Physics and Astronomy](https://www.pa.msu.edu/), [Michigan State University](http://www.msu.edu/), East Lansing, MI 48824, USA -->\n",
    "<!-- Author: -->  \n",
    "**Morten Hjorth-Jensen**, [National Superconducting Cyclotron Laboratory](http://www.nscl.msu.edu/) and [Department of Physics and Astronomy](https://www.pa.msu.edu/), [Michigan State University](http://www.msu.edu/), East Lansing, MI 48824, USA\n",
    "\n",
    "Date: **Jul 19, 2017**\n",
    "\n",
    "Copyright 2013-2017, Morten Hjorth-Jensen. Released under CC Attribution-NonCommercial 4.0 license\n",
    "\n",
    "\n",
    "\n",
    "## Why Hartree-Fock?\n",
    "Hartree-Fock (HF) theory is an algorithm for finding an approximative expression for the ground state of a given Hamiltonian. The basic ingredients are\n",
    "  * Define a single-particle basis $\\{\\psi_{\\alpha}\\}$ so that"
   ]
  },
  {
   "cell_type": "markdown",
   "metadata": {},
   "source": [
    "$$\n",
    "\\hat{h}^{\\mathrm{HF}}\\psi_{\\alpha} = \\varepsilon_{\\alpha}\\psi_{\\alpha}\n",
    "$$"
   ]
  },
  {
   "cell_type": "markdown",
   "metadata": {},
   "source": [
    "with the Hartree-Fock Hamiltonian defined as"
   ]
  },
  {
   "cell_type": "markdown",
   "metadata": {},
   "source": [
    "$$\n",
    "\\hat{h}^{\\mathrm{HF}}=\\hat{t}+\\hat{u}_{\\mathrm{ext}}+\\hat{u}^{\\mathrm{HF}}\n",
    "$$"
   ]
  },
  {
   "cell_type": "markdown",
   "metadata": {},
   "source": [
    "* The term  $\\hat{u}^{\\mathrm{HF}}$ is a single-particle potential to be determined by the HF algorithm.\n",
    "\n",
    "  * The HF algorithm means to choose $\\hat{u}^{\\mathrm{HF}}$ in order to have"
   ]
  },
  {
   "cell_type": "markdown",
   "metadata": {},
   "source": [
    "$$\n",
    "\\langle \\hat{H} \\rangle = E^{\\mathrm{HF}}= \\langle \\Phi_0 | \\hat{H}|\\Phi_0 \\rangle\n",
    "$$"
   ]
  },
  {
   "cell_type": "markdown",
   "metadata": {},
   "source": [
    "that is to find a local minimum with a Slater determinant $\\Phi_0$ being the ansatz for the ground state. \n",
    "  * The variational principle ensures that $E^{\\mathrm{HF}} \\ge E_0$, with $E_0$ the exact ground state energy.\n",
    "\n",
    "\n",
    "\n",
    "\n",
    "## Why Hartree-Fock?\n",
    "We will show that the Hartree-Fock Hamiltonian $\\hat{h}^{\\mathrm{HF}}$ equals our definition of the operator $\\hat{f}$ discussed in connection with the new definition of the normal-ordered Hamiltonian (see later lectures), that is we have, for a specific matrix element"
   ]
  },
  {
   "cell_type": "markdown",
   "metadata": {},
   "source": [
    "$$\n",
    "\\langle p |\\hat{h}^{\\mathrm{HF}}| q \\rangle =\\langle p |\\hat{f}| q \\rangle=\\langle p|\\hat{t}+\\hat{u}_{\\mathrm{ext}}|q \\rangle +\\sum_{i\\le F} \\langle pi | \\hat{V} | qi\\rangle_{AS},\n",
    "$$"
   ]
  },
  {
   "cell_type": "markdown",
   "metadata": {},
   "source": [
    "meaning that"
   ]
  },
  {
   "cell_type": "markdown",
   "metadata": {},
   "source": [
    "$$\n",
    "\\langle p|\\hat{u}^{\\mathrm{HF}}|q\\rangle = \\sum_{i\\le F} \\langle pi | \\hat{V} | qi\\rangle_{AS}.\n",
    "$$"
   ]
  },
  {
   "cell_type": "markdown",
   "metadata": {},
   "source": [
    "The so-called Hartree-Fock potential $\\hat{u}^{\\mathrm{HF}}$ brings an explicit medium dependence due to the summation over all single-particle states below the Fermi level $F$. It brings also in an explicit dependence on the two-body interaction (in nuclear physics we can also have complicated three- or higher-body forces). The two-body interaction, with its contribution from the other bystanding fermions, creates an effective mean field in which a given fermion moves, in addition to the external potential $\\hat{u}_{\\mathrm{ext}}$ which confines the motion of the fermion. For systems like nuclei, there is no external confining potential. Nuclei are examples of self-bound systems, where the binding arises due to the intrinsic nature of the strong force. For nuclear systems thus, there would be no external one-body potential in the Hartree-Fock Hamiltonian.\n",
    "\n",
    "\n",
    "\n",
    "\n",
    "\n",
    "\n",
    "## Definitions and notations\n",
    "Before we proceed we need some definitions.\n",
    "We will assume that the interacting part of the Hamiltonian\n",
    "can be approximated by a two-body interaction.\n",
    "This means that our Hamiltonian is written as the sum of some onebody part and a twobody part"
   ]
  },
  {
   "cell_type": "markdown",
   "metadata": {},
   "source": [
    "<!-- Equation labels as ordinary links -->\n",
    "<div id=\"Hnuclei\"></div>\n",
    "\n",
    "$$\n",
    "\\begin{equation}\n",
    "    \\hat{H} = \\hat{H}_0 + \\hat{H}_I \n",
    "    = \\sum_{i=1}^A \\hat{h}_0(x_i) + \\sum_{i < j}^A \\hat{v}(r_{ij}),\n",
    "\\label{Hnuclei} \\tag{1}\n",
    "\\end{equation}\n",
    "$$"
   ]
  },
  {
   "cell_type": "markdown",
   "metadata": {},
   "source": [
    "with"
   ]
  },
  {
   "cell_type": "markdown",
   "metadata": {},
   "source": [
    "<!-- Equation labels as ordinary links -->\n",
    "<div id=\"hinuclei\"></div>\n",
    "\n",
    "$$\n",
    "\\begin{equation}\n",
    "  H_0=\\sum_{i=1}^A \\hat{h}_0(x_i).\n",
    "\\label{hinuclei} \\tag{2}\n",
    "\\end{equation}\n",
    "$$"
   ]
  },
  {
   "cell_type": "markdown",
   "metadata": {},
   "source": [
    "The onebody part $u_{\\mathrm{ext}}(x_i)$ is normally approximated by a harmonic oscillator or Woods-Saxon potential or for electronic systems the Coulomb interaction an electron feels from the nucleus. However, other potentials are fully possible, such as \n",
    "one derived from the self-consistent solution of the Hartree-Fock equations to be discussed here.\n",
    "\n",
    "\n",
    "\n",
    "\n",
    "## Definitions and notations\n",
    "Our Hamiltonian is invariant under the permutation (interchange) of two particles.\n",
    "Since we deal with fermions however, the total wave function is antisymmetric.\n",
    "Let $\\hat{P}$ be an operator which interchanges two particles.\n",
    "Due to the symmetries we have ascribed to our Hamiltonian, this operator commutes with the total Hamiltonian,"
   ]
  },
  {
   "cell_type": "markdown",
   "metadata": {},
   "source": [
    "$$\n",
    "[\\hat{H},\\hat{P}] = 0,\n",
    "$$"
   ]
  },
  {
   "cell_type": "markdown",
   "metadata": {},
   "source": [
    "meaning that $\\Psi_{\\lambda}(x_1, x_2, \\dots , x_A)$ is an eigenfunction of \n",
    "$\\hat{P}$ as well, that is"
   ]
  },
  {
   "cell_type": "markdown",
   "metadata": {},
   "source": [
    "$$\n",
    "\\hat{P}_{ij}\\Psi_{\\lambda}(x_1, x_2, \\dots,x_i,\\dots,x_j,\\dots,x_A)=\n",
    "\\beta\\Psi_{\\lambda}(x_1, x_2, \\dots,x_i,\\dots,x_j,\\dots,x_A),\n",
    "$$"
   ]
  },
  {
   "cell_type": "markdown",
   "metadata": {},
   "source": [
    "where $\\beta$ is the eigenvalue of $\\hat{P}$. We have introduced the suffix $ij$ in order to indicate that we permute particles $i$ and $j$.\n",
    "The Pauli principle tells us that the total wave function for a system of fermions\n",
    "has to be antisymmetric, resulting in the eigenvalue $\\beta = -1$.\n",
    "\n",
    "\n",
    "\n",
    "## Definitions and notations\n",
    "In our case we assume that  we can approximate the exact eigenfunction with a Slater determinant"
   ]
  },
  {
   "cell_type": "markdown",
   "metadata": {},
   "source": [
    "<!-- Equation labels as ordinary links -->\n",
    "<div id=\"eq:HartreeFockDet\"></div>\n",
    "\n",
    "$$\n",
    "\\begin{equation}\n",
    "   \\Phi(x_1, x_2,\\dots ,x_A,\\alpha,\\beta,\\dots, \\sigma)=\\frac{1}{\\sqrt{A!}}\n",
    "\\left| \\begin{array}{ccccc} \\psi_{\\alpha}(x_1)& \\psi_{\\alpha}(x_2)& \\dots & \\dots & \\psi_{\\alpha}(x_A)\\\\\n",
    "                            \\psi_{\\beta}(x_1)&\\psi_{\\beta}(x_2)& \\dots & \\dots & \\psi_{\\beta}(x_A)\\\\  \n",
    "                            \\dots & \\dots & \\dots & \\dots & \\dots \\\\\n",
    "                            \\dots & \\dots & \\dots & \\dots & \\dots \\\\\n",
    "                     \\psi_{\\sigma}(x_1)&\\psi_{\\sigma}(x_2)& \\dots & \\dots & \\psi_{\\sigma}(x_A)\\end{array} \\right|, \\label{eq:HartreeFockDet} \\tag{3}\n",
    "\\end{equation}\n",
    "$$"
   ]
  },
  {
   "cell_type": "markdown",
   "metadata": {},
   "source": [
    "where  $x_i$  stand for the coordinates and spin values of a particle $i$ and $\\alpha,\\beta,\\dots, \\gamma$ \n",
    "are quantum numbers needed to describe remaining quantum numbers.\n",
    "\n",
    "\n",
    "\n",
    "## Definitions and notations\n",
    "The single-particle function $\\psi_{\\alpha}(x_i)$  are eigenfunctions of the onebody\n",
    "Hamiltonian $h_i$, that is"
   ]
  },
  {
   "cell_type": "markdown",
   "metadata": {},
   "source": [
    "$$\n",
    "\\hat{h}_0(x_i)=\\hat{t}(x_i) + \\hat{u}_{\\mathrm{ext}}(x_i),\n",
    "$$"
   ]
  },
  {
   "cell_type": "markdown",
   "metadata": {},
   "source": [
    "with eigenvalues"
   ]
  },
  {
   "cell_type": "markdown",
   "metadata": {},
   "source": [
    "$$\n",
    "\\hat{h}_0(x_i) \\psi_{\\alpha}(x_i)=\\left(\\hat{t}(x_i) + \\hat{u}_{\\mathrm{ext}}(x_i)\\right)\\psi_{\\alpha}(x_i)=\\varepsilon_{\\alpha}\\psi_{\\alpha}(x_i).\n",
    "$$"
   ]
  },
  {
   "cell_type": "markdown",
   "metadata": {},
   "source": [
    "The energies $\\varepsilon_{\\alpha}$ are the so-called non-interacting single-particle energies, or unperturbed energies. \n",
    "The total energy is in this case the sum over all  single-particle energies, if no two-body or more complicated\n",
    "many-body interactions are present.\n",
    "\n",
    "\n",
    "\n",
    "## Definitions and notations\n",
    "Let us denote the ground state energy by $E_0$. According to the\n",
    "variational principle we have"
   ]
  },
  {
   "cell_type": "markdown",
   "metadata": {},
   "source": [
    "$$\n",
    "E_0 \\le E[\\Phi] = \\int \\Phi^*\\hat{H}\\Phi d\\mathbf{\\tau}\n",
    "$$"
   ]
  },
  {
   "cell_type": "markdown",
   "metadata": {},
   "source": [
    "where $\\Phi$ is a trial function which we assume to be normalized"
   ]
  },
  {
   "cell_type": "markdown",
   "metadata": {},
   "source": [
    "$$\n",
    "\\int \\Phi^*\\Phi d\\mathbf{\\tau} = 1,\n",
    "$$"
   ]
  },
  {
   "cell_type": "markdown",
   "metadata": {},
   "source": [
    "where we have used the shorthand $d\\mathbf{\\tau}=dx_1dr_2\\dots dr_A$.\n",
    "\n",
    "\n",
    "\n",
    "## Brief reminder on some linear algebra properties\n",
    "Before we proceed with a more compact representation of a Slater determinant, we would like to repeat some linear algebra properties which will be useful for our derivations of the energy as function of a Slater determinant, Hartree-Fock theory and later the nuclear shell model.\n",
    "\n",
    "The inverse of a matrix is defined by"
   ]
  },
  {
   "cell_type": "markdown",
   "metadata": {},
   "source": [
    "$$\n",
    "\\mathbf{A}^{-1} \\cdot \\mathbf{A} = I\n",
    "$$"
   ]
  },
  {
   "cell_type": "markdown",
   "metadata": {},
   "source": [
    "A unitary matrix $\\mathbf{A}$ is one whose inverse is its adjoint"
   ]
  },
  {
   "cell_type": "markdown",
   "metadata": {},
   "source": [
    "$$\n",
    "\\mathbf{A}^{-1}=\\mathbf{A}^{\\dagger}\n",
    "$$"
   ]
  },
  {
   "cell_type": "markdown",
   "metadata": {},
   "source": [
    "A real unitary matrix is called orthogonal and its inverse is equal to its transpose.\n",
    "A hermitian matrix is its own self-adjoint, that  is"
   ]
  },
  {
   "cell_type": "markdown",
   "metadata": {},
   "source": [
    "$$\n",
    "\\mathbf{A}=\\mathbf{A}^{\\dagger}.\n",
    "$$"
   ]
  },
  {
   "cell_type": "markdown",
   "metadata": {},
   "source": [
    "## Basic Matrix Features\n",
    "\n",
    "**Matrix Properties Reminder.**\n",
    "\n",
    "\n",
    "<table border=\"1\">\n",
    "<thead>\n",
    "<tr><th align=\"center\">              Relations               </th> <th align=\"center\">      Name     </th> <th align=\"center\">                            matrix elements                            </th> </tr>\n",
    "</thead>\n",
    "<tbody>\n",
    "<tr><td align=\"center\">   $A = A^{T}$                               </td> <td align=\"center\">   symmetric          </td> <td align=\"center\">   $a_{ij} = a_{ji}$                                                          </td> </tr>\n",
    "<tr><td align=\"center\">   $A = \\left (A^{T} \\right )^{-1}$          </td> <td align=\"center\">   real orthogonal    </td> <td align=\"center\">   $\\sum_k a_{ik} a_{jk} = \\sum_k a_{ki} a_{kj} = \\delta_{ij}$                </td> </tr>\n",
    "<tr><td align=\"center\">   $A = A^{ * }$                             </td> <td align=\"center\">   real matrix        </td> <td align=\"center\">   $a_{ij} = a_{ij}^{ * }$                                                    </td> </tr>\n",
    "<tr><td align=\"center\">   $A = A^{\\dagger}$                         </td> <td align=\"center\">   hermitian          </td> <td align=\"center\">   $a_{ij} = a_{ji}^{ * }$                                                    </td> </tr>\n",
    "<tr><td align=\"center\">   $A = \\left (A^{\\dagger} \\right )^{-1}$    </td> <td align=\"center\">   unitary            </td> <td align=\"center\">   $\\sum_k a_{ik} a_{jk}^{ * } = \\sum_k a_{ki}^{ * } a_{kj} = \\delta_{ij}$    </td> </tr>\n",
    "</tbody>\n",
    "</table>\n",
    "\n",
    "\n",
    "\n",
    "\n",
    "\n",
    "## Basic Matrix Features\n",
    "Since we will deal with Fermions (identical and indistinguishable particles) we will \n",
    "form an ansatz for a given state in terms of so-called Slater determinants determined\n",
    "by a chosen basis of single-particle functions. \n",
    "\n",
    "For a given $n\\times n$ matrix $\\mathbf{A}$ we can write its determinant"
   ]
  },
  {
   "cell_type": "markdown",
   "metadata": {},
   "source": [
    "$$\n",
    "det(\\mathbf{A})=|\\mathbf{A}|=\n",
    "\\left| \\begin{array}{ccccc} a_{11}& a_{12}& \\dots & \\dots & a_{1n}\\\\\n",
    "                            a_{21}&a_{22}& \\dots & \\dots & a_{2n}\\\\  \n",
    "                            \\dots & \\dots & \\dots & \\dots & \\dots \\\\\n",
    "                            \\dots & \\dots & \\dots & \\dots & \\dots \\\\\n",
    "                            a_{n1}& a_{n2}& \\dots & \\dots & a_{nn}\\end{array} \\right|,\n",
    "$$"
   ]
  },
  {
   "cell_type": "markdown",
   "metadata": {},
   "source": [
    "in a more compact form as"
   ]
  },
  {
   "cell_type": "markdown",
   "metadata": {},
   "source": [
    "$$\n",
    "|\\mathbf{A}|= \\sum_{i=1}^{n!}(-1)^{p_i}\\hat{P}_i a_{11}a_{22}\\dots a_{nn},\n",
    "$$"
   ]
  },
  {
   "cell_type": "markdown",
   "metadata": {},
   "source": [
    "where $\\hat{P}_i$ is a permutation operator which permutes the column indices $1,2,3,\\dots,n$\n",
    "and the sum runs over all $n!$ permutations.  The quantity $p_i$ represents the number of transpositions of column indices that are needed in order to bring a given permutation back to its initial ordering, in our case given by $a_{11}a_{22}\\dots a_{nn}$ here.\n",
    "\n",
    "\n",
    "\n",
    "\n",
    "## Basic Matrix Features, simple $2 \\times 2$ determinant\n",
    "A simple $2\\times 2$ determinant illustrates this. We have"
   ]
  },
  {
   "cell_type": "markdown",
   "metadata": {},
   "source": [
    "$$\n",
    "det(\\mathbf{A})=\n",
    "\\left| \\begin{array}{cc} a_{11}& a_{12}\\\\\n",
    "                            a_{21}&a_{22}\\end{array} \\right|= (-1)^0a_{11}a_{22}+(-1)^1a_{12}a_{21},\n",
    "$$"
   ]
  },
  {
   "cell_type": "markdown",
   "metadata": {},
   "source": [
    "where in the last term we have interchanged the column indices $1$ and $2$. The natural ordering we have chosen is $a_{11}a_{22}$.\n",
    "\n",
    "\n",
    "\n",
    "\n",
    "\n",
    "## Definitions and notations\n",
    "With the above we can rewrite our Slater determinant in a more compact form.\n",
    "In the Hartree-Fock method the trial function is the Slater\n",
    "determinant of Eq. ([eq:HartreeFockDet](#eq:HartreeFockDet)) which can be rewritten as"
   ]
  },
  {
   "cell_type": "markdown",
   "metadata": {},
   "source": [
    "$$\n",
    "\\Phi(x_1,x_2,\\dots,x_A,\\alpha,\\beta,\\dots,\\nu) = \\frac{1}{\\sqrt{A!}}\\sum_{P} (-)^P\\hat{P}\\psi_{\\alpha}(x_1)\n",
    "    \\psi_{\\beta}(x_2)\\dots\\psi_{\\nu}(x_A)=\\sqrt{A!}\\hat{A}\\Phi_H,\n",
    "$$"
   ]
  },
  {
   "cell_type": "markdown",
   "metadata": {},
   "source": [
    "where we have introduced the antisymmetrization operator $\\hat{A}$ defined by the \n",
    "summation over all possible permutations of two particles.\n",
    "\n",
    "\n",
    "\n",
    "## Definitions and notations\n",
    "It is defined as"
   ]
  },
  {
   "cell_type": "markdown",
   "metadata": {},
   "source": [
    "<!-- Equation labels as ordinary links -->\n",
    "<div id=\"antiSymmetryOperator\"></div>\n",
    "\n",
    "$$\n",
    "\\begin{equation}\n",
    "  \\hat{A} = \\frac{1}{A!}\\sum_{p} (-)^p\\hat{P},\n",
    "\\label{antiSymmetryOperator} \\tag{4}\n",
    "\\end{equation}\n",
    "$$"
   ]
  },
  {
   "cell_type": "markdown",
   "metadata": {},
   "source": [
    "with $p$ standing for the number of permutations. We have introduced for later use the so-called\n",
    "Hartree-function, defined by the simple product of all possible single-particle functions"
   ]
  },
  {
   "cell_type": "markdown",
   "metadata": {},
   "source": [
    "$$\n",
    "\\Phi_H(x_1,x_2,\\dots,x_A,\\alpha,\\beta,\\dots,\\nu) =\n",
    "  \\psi_{\\alpha}(x_1)\n",
    "    \\psi_{\\beta}(x_2)\\dots\\psi_{\\nu}(x_A).\n",
    "$$"
   ]
  },
  {
   "cell_type": "markdown",
   "metadata": {},
   "source": [
    "## Definitions and notations\n",
    "Both $\\hat{H}_0$ and $\\hat{H}_I$ are invariant under all possible permutations of any two particles\n",
    "and hence commute with $\\hat{A}$"
   ]
  },
  {
   "cell_type": "markdown",
   "metadata": {},
   "source": [
    "<!-- Equation labels as ordinary links -->\n",
    "<div id=\"commutionAntiSym\"></div>\n",
    "\n",
    "$$\n",
    "\\begin{equation}\n",
    "  [H_0,\\hat{A}] = [H_I,\\hat{A}] = 0. \\label{commutionAntiSym} \\tag{5}\n",
    "\\end{equation}\n",
    "$$"
   ]
  },
  {
   "cell_type": "markdown",
   "metadata": {},
   "source": [
    "Furthermore, $\\hat{A}$ satisfies"
   ]
  },
  {
   "cell_type": "markdown",
   "metadata": {},
   "source": [
    "<!-- Equation labels as ordinary links -->\n",
    "<div id=\"AntiSymSquared\"></div>\n",
    "\n",
    "$$\n",
    "\\begin{equation}\n",
    "  \\hat{A}^2 = \\hat{A},  \\label{AntiSymSquared} \\tag{6}\n",
    "\\end{equation}\n",
    "$$"
   ]
  },
  {
   "cell_type": "markdown",
   "metadata": {},
   "source": [
    "since every permutation of the Slater\n",
    "determinant reproduces it.\n",
    "\n",
    "\n",
    "\n",
    "## Definitions and notations\n",
    "The expectation value of $\\hat{H}_0$"
   ]
  },
  {
   "cell_type": "markdown",
   "metadata": {},
   "source": [
    "$$\n",
    "\\int \\Phi^*\\hat{H}_0\\Phi d\\mathbf{\\tau} \n",
    "  = A! \\int \\Phi_H^*\\hat{A}\\hat{H}_0\\hat{A}\\Phi_H d\\mathbf{\\tau}\n",
    "$$"
   ]
  },
  {
   "cell_type": "markdown",
   "metadata": {},
   "source": [
    "is readily reduced to"
   ]
  },
  {
   "cell_type": "markdown",
   "metadata": {},
   "source": [
    "$$\n",
    "\\int \\Phi^*\\hat{H}_0\\Phi d\\mathbf{\\tau} \n",
    "  = A! \\int \\Phi_H^*\\hat{H}_0\\hat{A}\\Phi_H d\\mathbf{\\tau},\n",
    "$$"
   ]
  },
  {
   "cell_type": "markdown",
   "metadata": {},
   "source": [
    "where we have used Eqs. ([commutionAntiSym](#commutionAntiSym)) and\n",
    "([AntiSymSquared](#AntiSymSquared)). The next step is to replace the antisymmetrization\n",
    "operator by its definition and to\n",
    "replace $\\hat{H}_0$ with the sum of one-body operators"
   ]
  },
  {
   "cell_type": "markdown",
   "metadata": {},
   "source": [
    "$$\n",
    "\\int \\Phi^*\\hat{H}_0\\Phi  d\\mathbf{\\tau}\n",
    "  = \\sum_{i=1}^A \\sum_{p} (-)^p\\int \n",
    "  \\Phi_H^*\\hat{h}_0\\hat{P}\\Phi_H d\\mathbf{\\tau}.\n",
    "$$"
   ]
  },
  {
   "cell_type": "markdown",
   "metadata": {},
   "source": [
    "## Definitions and notations\n",
    "The integral vanishes if two or more particles are permuted in only one\n",
    "of the Hartree-functions $\\Phi_H$ because the individual single-particle wave functions are\n",
    "orthogonal. We obtain then"
   ]
  },
  {
   "cell_type": "markdown",
   "metadata": {},
   "source": [
    "$$\n",
    "\\int \\Phi^*\\hat{H}_0\\Phi  d\\mathbf{\\tau}= \\sum_{i=1}^A \\int \\Phi_H^*\\hat{h}_0\\Phi_H  d\\mathbf{\\tau}.\n",
    "$$"
   ]
  },
  {
   "cell_type": "markdown",
   "metadata": {},
   "source": [
    "Orthogonality of the single-particle functions allows us to further simplify the integral, and we\n",
    "arrive at the following expression for the expectation values of the\n",
    "sum of one-body Hamiltonians"
   ]
  },
  {
   "cell_type": "markdown",
   "metadata": {},
   "source": [
    "<!-- Equation labels as ordinary links -->\n",
    "<div id=\"H1Expectation\"></div>\n",
    "\n",
    "$$\n",
    "\\begin{equation}\n",
    "  \\int \\Phi^*\\hat{H}_0\\Phi  d\\mathbf{\\tau}\n",
    "  = \\sum_{\\mu=1}^A \\int \\psi_{\\mu}^*(x)\\hat{h}_0\\psi_{\\mu}(x)dx.\n",
    "\\label{H1Expectation} \\tag{7}\n",
    "\\end{equation}\n",
    "$$"
   ]
  },
  {
   "cell_type": "markdown",
   "metadata": {},
   "source": [
    "## Definitions and notations\n",
    "We introduce the following shorthand for the above integral"
   ]
  },
  {
   "cell_type": "markdown",
   "metadata": {},
   "source": [
    "$$\n",
    "\\langle \\mu | \\hat{h}_0 | \\mu \\rangle = \\int \\psi_{\\mu}^*(x)\\hat{h}_0\\psi_{\\mu}(x)dx,\n",
    "$$"
   ]
  },
  {
   "cell_type": "markdown",
   "metadata": {},
   "source": [
    "and rewrite Eq. ([H1Expectation](#H1Expectation)) as"
   ]
  },
  {
   "cell_type": "markdown",
   "metadata": {},
   "source": [
    "<!-- Equation labels as ordinary links -->\n",
    "<div id=\"H1Expectation1\"></div>\n",
    "\n",
    "$$\n",
    "\\begin{equation}\n",
    "  \\int \\Phi^*\\hat{H}_0\\Phi  d\\tau\n",
    "  = \\sum_{\\mu=1}^A \\langle \\mu | \\hat{h}_0 | \\mu \\rangle.\n",
    "\\label{H1Expectation1} \\tag{8}\n",
    "\\end{equation}\n",
    "$$"
   ]
  },
  {
   "cell_type": "markdown",
   "metadata": {},
   "source": [
    "## Definitions and notations\n",
    "The expectation value of the two-body part of the Hamiltonian is obtained in a\n",
    "similar manner. We have"
   ]
  },
  {
   "cell_type": "markdown",
   "metadata": {},
   "source": [
    "$$\n",
    "\\int \\Phi^*\\hat{H}_I\\Phi d\\mathbf{\\tau} \n",
    "  = A! \\int \\Phi_H^*\\hat{A}\\hat{H}_I\\hat{A}\\Phi_H d\\mathbf{\\tau},\n",
    "$$"
   ]
  },
  {
   "cell_type": "markdown",
   "metadata": {},
   "source": [
    "which reduces to"
   ]
  },
  {
   "cell_type": "markdown",
   "metadata": {},
   "source": [
    "$$\n",
    "\\int \\Phi^*\\hat{H}_I\\Phi d\\mathbf{\\tau} \n",
    "  = \\sum_{i\\le j=1}^A \\sum_{p} (-)^p\\int \n",
    "  \\Phi_H^*\\hat{v}(r_{ij})\\hat{P}\\Phi_H d\\mathbf{\\tau},\n",
    "$$"
   ]
  },
  {
   "cell_type": "markdown",
   "metadata": {},
   "source": [
    "by following the same arguments as for the one-body\n",
    "Hamiltonian.\n",
    "\n",
    "\n",
    "\n",
    "## Definitions and notations\n",
    "Because of the dependence on the inter-particle distance $r_{ij}$,  permutations of\n",
    "any two particles no longer vanish, and we get"
   ]
  },
  {
   "cell_type": "markdown",
   "metadata": {},
   "source": [
    "$$\n",
    "\\int \\Phi^*\\hat{H}_I\\Phi d\\mathbf{\\tau} \n",
    "  = \\sum_{i < j=1}^A \\int  \n",
    "  \\Phi_H^*\\hat{v}(r_{ij})(1-P_{ij})\\Phi_H d\\mathbf{\\tau}.\n",
    "$$"
   ]
  },
  {
   "cell_type": "markdown",
   "metadata": {},
   "source": [
    "where $P_{ij}$ is the permutation operator that interchanges\n",
    "particle $i$ and particle $j$. Again we use the assumption that the single-particle wave functions\n",
    "are orthogonal.\n",
    "\n",
    "\n",
    "\n",
    "\n",
    "## Definitions and notations\n",
    "We obtain"
   ]
  },
  {
   "cell_type": "markdown",
   "metadata": {},
   "source": [
    "<!-- Equation labels as ordinary links -->\n",
    "<div id=\"_auto1\"></div>\n",
    "\n",
    "$$\n",
    "\\begin{equation}\n",
    "  \\int \\Phi^*\\hat{H}_I\\Phi d\\mathbf{\\tau} \n",
    "  = \\frac{1}{2}\\sum_{\\mu=1}^A\\sum_{\\nu=1}^A\n",
    "    \\left[ \\int \\psi_{\\mu}^*(x_i)\\psi_{\\nu}^*(x_j)\\hat{v}(r_{ij})\\psi_{\\mu}(x_i)\\psi_{\\nu}(x_j)\n",
    "    dx_idx_j \\right.\n",
    "\\label{_auto1} \\tag{9}\n",
    "\\end{equation}\n",
    "$$"
   ]
  },
  {
   "cell_type": "markdown",
   "metadata": {},
   "source": [
    "<!-- Equation labels as ordinary links -->\n",
    "<div id=\"H2Expectation\"></div>\n",
    "\n",
    "$$\n",
    "\\begin{equation} \n",
    "  \\left.\n",
    "  - \\int \\psi_{\\mu}^*(x_i)\\psi_{\\nu}^*(x_j)\n",
    "  \\hat{v}(r_{ij})\\psi_{\\nu}(x_i)\\psi_{\\mu}(x_j)\n",
    "  dx_idx_j\n",
    "  \\right]. \\label{H2Expectation} \\tag{10}\n",
    "\\end{equation}\n",
    "$$"
   ]
  },
  {
   "cell_type": "markdown",
   "metadata": {},
   "source": [
    "The first term is the so-called direct term. It gives rise to the  Hartree term in Hartree-Fock theory, \n",
    "while the second is due to the Pauli principle and is called\n",
    "the exchange term and gives rise to the Fock term in the Hartree-Fock equations.\n",
    "The factor  $1/2$ is introduced because we now run over\n",
    "all pairs twice.\n",
    "\n",
    "\n",
    "\n",
    "## Definitions and notations\n",
    "The last equation allows us to  introduce some further definitions.  \n",
    "The single-particle wave functions $\\psi_{\\mu}(x)$, defined by the quantum numbers $\\mu$ and $x$\n",
    "are defined as the overlap"
   ]
  },
  {
   "cell_type": "markdown",
   "metadata": {},
   "source": [
    "$$\n",
    "\\psi_{\\mu}(x)  = \\langle x | \\mu \\rangle .\n",
    "$$"
   ]
  },
  {
   "cell_type": "markdown",
   "metadata": {},
   "source": [
    "## Definitions and notations\n",
    "We introduce the following shorthands for the above two integrals"
   ]
  },
  {
   "cell_type": "markdown",
   "metadata": {},
   "source": [
    "$$\n",
    "\\langle \\mu\\nu|\\hat{v}|\\mu\\nu\\rangle =  \\int \\psi_{\\mu}^*(x_i)\\psi_{\\nu}^*(x_j)\\hat{v}(r_{ij})\\psi_{\\mu}(x_i)\\psi_{\\nu}(x_j)\n",
    "    dx_idx_j,\n",
    "$$"
   ]
  },
  {
   "cell_type": "markdown",
   "metadata": {},
   "source": [
    "and"
   ]
  },
  {
   "cell_type": "markdown",
   "metadata": {},
   "source": [
    "$$\n",
    "\\langle \\mu\\nu|\\hat{v}|\\nu\\mu\\rangle = \\int \\psi_{\\mu}^*(x_i)\\psi_{\\nu}^*(x_j)\n",
    "  \\hat{v}(r_{ij})\\psi_{\\nu}(x_i)\\psi_{\\mu}(x_j)\n",
    "  dx_idx_j.\n",
    "$$"
   ]
  },
  {
   "cell_type": "markdown",
   "metadata": {},
   "source": [
    "## Compact functional\n",
    "Our functional can then be  written in a compact version as"
   ]
  },
  {
   "cell_type": "markdown",
   "metadata": {},
   "source": [
    "$$\n",
    "E[\\Phi] \n",
    "  = \\sum_{\\mu}^A \\langle \\mu | \\hat{h}_0 | \\mu\\rangle+ \\frac{1}{2}\\sum_{\\mu\\nu}^A\\left[\\langle \\mu\\nu |\\hat{v}|\\mu\\nu\\rangle-\\langle \\nu\\mu |\\hat{v}|\\mu\\nu\\rangle\\right].\n",
    "$$"
   ]
  },
  {
   "cell_type": "markdown",
   "metadata": {},
   "source": [
    "## Properties of the interaction elements\n",
    "Since the interaction is invariant under the interchange of two particles it means for example that we have"
   ]
  },
  {
   "cell_type": "markdown",
   "metadata": {},
   "source": [
    "$$\n",
    "\\langle \\mu\\nu|\\hat{v}|\\mu\\nu\\rangle =  \\langle \\nu\\mu|\\hat{v}|\\nu\\mu\\rangle,\n",
    "$$"
   ]
  },
  {
   "cell_type": "markdown",
   "metadata": {},
   "source": [
    "or in the more general case"
   ]
  },
  {
   "cell_type": "markdown",
   "metadata": {},
   "source": [
    "$$\n",
    "\\langle \\mu\\nu|\\hat{v}|\\sigma\\tau\\rangle =  \\langle \\nu\\mu|\\hat{v}|\\tau\\sigma\\rangle.\n",
    "$$"
   ]
  },
  {
   "cell_type": "markdown",
   "metadata": {},
   "source": [
    "## Redefining the matrix elements\n",
    "The direct and exchange matrix elements can be  brought together if we define the antisymmetrized matrix element"
   ]
  },
  {
   "cell_type": "markdown",
   "metadata": {},
   "source": [
    "$$\n",
    "\\langle \\mu\\nu|\\hat{v}|\\mu\\nu\\rangle_{AS}= \\langle \\mu\\nu|\\hat{v}|\\mu\\nu\\rangle-\\langle \\mu\\nu|\\hat{v}|\\nu\\mu\\rangle,\n",
    "$$"
   ]
  },
  {
   "cell_type": "markdown",
   "metadata": {},
   "source": [
    "or for a general matrix element"
   ]
  },
  {
   "cell_type": "markdown",
   "metadata": {},
   "source": [
    "$$\n",
    "\\langle \\mu\\nu|\\hat{v}|\\sigma\\tau\\rangle_{AS}= \\langle \\mu\\nu|\\hat{v}|\\sigma\\tau\\rangle-\\langle \\mu\\nu|\\hat{v}|\\tau\\sigma\\rangle.\n",
    "$$"
   ]
  },
  {
   "cell_type": "markdown",
   "metadata": {},
   "source": [
    "It has the symmetry property"
   ]
  },
  {
   "cell_type": "markdown",
   "metadata": {},
   "source": [
    "$$\n",
    "\\langle \\mu\\nu|\\hat{v}|\\sigma\\tau\\rangle_{AS}= -\\langle \\mu\\nu|\\hat{v}|\\tau\\sigma\\rangle_{AS}=-\\langle \\nu\\mu|\\hat{v}|\\sigma\\tau\\rangle_{AS}.\n",
    "$$"
   ]
  },
  {
   "cell_type": "markdown",
   "metadata": {},
   "source": [
    "The antisymmetric matrix element is also hermitian, implying"
   ]
  },
  {
   "cell_type": "markdown",
   "metadata": {},
   "source": [
    "$$\n",
    "\\langle \\mu\\nu|\\hat{v}|\\sigma\\tau\\rangle_{AS}= \\langle \\sigma\\tau|\\hat{v}|\\mu\\nu\\rangle_{AS}.\n",
    "$$"
   ]
  },
  {
   "cell_type": "markdown",
   "metadata": {},
   "source": [
    "## Rewriting the energy functional\n",
    "With these notations we rewrite the energy functional as"
   ]
  },
  {
   "cell_type": "markdown",
   "metadata": {},
   "source": [
    "<!-- Equation labels as ordinary links -->\n",
    "<div id=\"H2Expectation2\"></div>\n",
    "\n",
    "$$\n",
    "\\begin{equation}\n",
    "  \\int \\Phi^*\\hat{H_I}\\Phi d\\mathbf{\\tau} \n",
    "  = \\frac{1}{2}\\sum_{\\mu=1}^A\\sum_{\\nu=1}^A \\langle \\mu\\nu|\\hat{v}|\\mu\\nu\\rangle_{AS}. \\label{H2Expectation2} \\tag{11}\n",
    "\\end{equation}\n",
    "$$"
   ]
  },
  {
   "cell_type": "markdown",
   "metadata": {},
   "source": [
    "Adding the contribution from the one-body operator $\\hat{H}_0$ to\n",
    "([H2Expectation2](#H2Expectation2)) we obtain the energy functional"
   ]
  },
  {
   "cell_type": "markdown",
   "metadata": {},
   "source": [
    "<!-- Equation labels as ordinary links -->\n",
    "<div id=\"FunctionalEPhi\"></div>\n",
    "\n",
    "$$\n",
    "\\begin{equation}\n",
    "  E[\\Phi] \n",
    "  = \\sum_{\\mu=1}^A \\langle \\mu | h | \\mu \\rangle +\n",
    "  \\frac{1}{2}\\sum_{{\\mu}=1}^A\\sum_{{\\nu}=1}^A \\langle \\mu\\nu|\\hat{v}|\\mu\\nu\\rangle_{AS}. \\label{FunctionalEPhi} \\tag{12}\n",
    "\\end{equation}\n",
    "$$"
   ]
  },
  {
   "cell_type": "markdown",
   "metadata": {},
   "source": [
    "In our coordinate space derivations below we will spell out the Hartree-Fock equations in terms of their integrals.\n",
    "\n",
    "\n",
    "\n",
    "\n",
    "## Reminder on Variational Calculus and Lagrangian Multipliers\n",
    "The calculus of variations involves \n",
    "problems where the quantity to be minimized or maximized is an integral. \n",
    "\n",
    "In the general case we have an integral of the type"
   ]
  },
  {
   "cell_type": "markdown",
   "metadata": {},
   "source": [
    "$$\n",
    "E[\\Phi]= \\int_a^b f(\\Phi(x),\\frac{\\partial \\Phi}{\\partial x},x)dx,\n",
    "$$"
   ]
  },
  {
   "cell_type": "markdown",
   "metadata": {},
   "source": [
    "where $E$ is the quantity which is sought minimized or maximized.\n",
    "The problem is that although $f$ is a function of the variables $\\Phi$, $\\partial \\Phi/\\partial x$ and $x$, the exact dependence of\n",
    "$\\Phi$ on $x$ is not known.  This means again that even though the integral has fixed limits $a$ and $b$, the path of integration is\n",
    "not known. In our case the unknown quantities are the single-particle wave functions and we wish to choose an integration path which makes\n",
    "the functional $E[\\Phi]$ stationary. This means that we want to find minima, or maxima or saddle points. In physics we search normally for minima.\n",
    "Our task is therefore to find the minimum of $E[\\Phi]$ so that its variation $\\delta E$ is zero  subject to specific\n",
    "constraints. In our case the constraints appear as the integral which expresses the orthogonality of the  single-particle wave functions.\n",
    "The constraints can be treated via the technique of Lagrangian multipliers\n",
    "\n",
    "\n",
    "\n",
    "\n",
    "## Variational Calculus and Lagrangian Multipliers, simple example\n",
    "Let us specialize to the expectation value of the energy for one particle in three-dimensions.\n",
    "This expectation value reads"
   ]
  },
  {
   "cell_type": "markdown",
   "metadata": {},
   "source": [
    "$$\n",
    "E=\\int dxdydz \\psi^*(x,y,z) \\hat{H} \\psi(x,y,z),\n",
    "$$"
   ]
  },
  {
   "cell_type": "markdown",
   "metadata": {},
   "source": [
    "with the constraint"
   ]
  },
  {
   "cell_type": "markdown",
   "metadata": {},
   "source": [
    "$$\n",
    "\\int dxdydz \\psi^*(x,y,z) \\psi(x,y,z)=1,\n",
    "$$"
   ]
  },
  {
   "cell_type": "markdown",
   "metadata": {},
   "source": [
    "and a Hamiltonian"
   ]
  },
  {
   "cell_type": "markdown",
   "metadata": {},
   "source": [
    "$$\n",
    "\\hat{H}=-\\frac{1}{2}\\nabla^2+V(x,y,z).\n",
    "$$"
   ]
  },
  {
   "cell_type": "markdown",
   "metadata": {},
   "source": [
    "We will, for the sake of notational convenience,  skip the variables $x,y,z$ below, and write for example $V(x,y,z)=V$.\n",
    "\n",
    "\n",
    "\n",
    "## Manipulating terms\n",
    "The integral involving the kinetic energy can be written as, with the function $\\psi$ vanishing\n",
    "strongly for large values of $x,y,z$ (given here by the limits $a$ and $b$),"
   ]
  },
  {
   "cell_type": "markdown",
   "metadata": {},
   "source": [
    "$$\n",
    "\\int_a^b dxdydz \\psi^* \\left(-\\frac{1}{2}\\nabla^2\\right) \\psi dxdydz = \\psi^*\\nabla\\psi|_a^b+\\int_a^b dxdydz\\frac{1}{2}\\nabla\\psi^*\\nabla\\psi.\n",
    "$$"
   ]
  },
  {
   "cell_type": "markdown",
   "metadata": {},
   "source": [
    "We will drop the limits $a$ and $b$ in the remaining discussion. \n",
    "Inserting this expression into the expectation value for the energy and taking the variational minimum  we obtain"
   ]
  },
  {
   "cell_type": "markdown",
   "metadata": {},
   "source": [
    "$$\n",
    "\\delta E = \\delta \\left\\{\\int dxdydz\\left( \\frac{1}{2}\\nabla\\psi^*\\nabla\\psi+V\\psi^*\\psi\\right)\\right\\} = 0.\n",
    "$$"
   ]
  },
  {
   "cell_type": "markdown",
   "metadata": {},
   "source": [
    "## Adding the Lagrangian multiplier\n",
    "The constraint appears in integral form as"
   ]
  },
  {
   "cell_type": "markdown",
   "metadata": {},
   "source": [
    "$$\n",
    "\\int dxdydz \\psi^* \\psi=\\mathrm{constant},\n",
    "$$"
   ]
  },
  {
   "cell_type": "markdown",
   "metadata": {},
   "source": [
    "and multiplying with a Lagrangian multiplier $\\lambda$ and taking the variational minimum we obtain the final variational equation"
   ]
  },
  {
   "cell_type": "markdown",
   "metadata": {},
   "source": [
    "$$\n",
    "\\delta \\left\\{\\int dxdydz\\left( \\frac{1}{2}\\nabla\\psi^*\\nabla\\psi+V\\psi^*\\psi-\\lambda\\psi^*\\psi\\right)\\right\\} = 0.\n",
    "$$"
   ]
  },
  {
   "cell_type": "markdown",
   "metadata": {},
   "source": [
    "We introduce the function  $f$"
   ]
  },
  {
   "cell_type": "markdown",
   "metadata": {},
   "source": [
    "$$\n",
    "f =  \\frac{1}{2}\\nabla\\psi^*\\nabla\\psi+V\\psi^*\\psi-\\lambda\\psi^*\\psi=\n",
    "\\frac{1}{2}(\\psi^*_x\\psi_x+\\psi^*_y\\psi_y+\\psi^*_z\\psi_z)+V\\psi^*\\psi-\\lambda\\psi^*\\psi,\n",
    "$$"
   ]
  },
  {
   "cell_type": "markdown",
   "metadata": {},
   "source": [
    "where we have skipped the dependence on $x,y,z$ and introduced the shorthand $\\psi_x$, $\\psi_y$ and $\\psi_z$  for the various derivatives.\n",
    "\n",
    "\n",
    "\n",
    "## And with the Euler-Lagrange equations we get\n",
    "For $\\psi^*$ the Euler-Lagrange  equations yield"
   ]
  },
  {
   "cell_type": "markdown",
   "metadata": {},
   "source": [
    "$$\n",
    "\\frac{\\partial f}{\\partial \\psi^*}- \\frac{\\partial }{\\partial x}\\frac{\\partial f}{\\partial \\psi^*_x}-\\frac{\\partial }{\\partial y}\\frac{\\partial f}{\\partial \\psi^*_y}-\\frac{\\partial }{\\partial z}\\frac{\\partial f}{\\partial \\psi^*_z}=0,\n",
    "$$"
   ]
  },
  {
   "cell_type": "markdown",
   "metadata": {},
   "source": [
    "which results in"
   ]
  },
  {
   "cell_type": "markdown",
   "metadata": {},
   "source": [
    "$$\n",
    "-\\frac{1}{2}(\\psi_{xx}+\\psi_{yy}+\\psi_{zz})+V\\psi=\\lambda \\psi.\n",
    "$$"
   ]
  },
  {
   "cell_type": "markdown",
   "metadata": {},
   "source": [
    "We can then identify the  Lagrangian multiplier as the energy of the system. The last equation is \n",
    "nothing but the standard \n",
    "Schroedinger equation and the variational  approach discussed here provides \n",
    "a powerful method for obtaining approximate solutions of the wave function.\n",
    "\n",
    "\n",
    "\n",
    "\n",
    "\n",
    "## Hartree-Fock by varying the coefficients of a wave function expansion\n",
    "In deriving the Hartree-Fock equations, we  will expand the single-particle functions in a known basis  and vary the coefficients, \n",
    "that is, the new single-particle wave function is written as a linear expansion\n",
    "in terms of a fixed chosen orthogonal basis (for example the well-known harmonic oscillator functions or the hydrogen-like functions etc).\n",
    "We define our new Hartree-Fock single-particle basis by performing a unitary transformation \n",
    "on our previous basis (labelled with greek indices) as"
   ]
  },
  {
   "cell_type": "markdown",
   "metadata": {},
   "source": [
    "<!-- Equation labels as ordinary links -->\n",
    "<div id=\"eq:newbasis\"></div>\n",
    "\n",
    "$$\n",
    "\\begin{equation}\n",
    "\\psi_p^{HF}  = \\sum_{\\lambda} C_{p\\lambda}\\phi_{\\lambda}. \\label{eq:newbasis} \\tag{13}\n",
    "\\end{equation}\n",
    "$$"
   ]
  },
  {
   "cell_type": "markdown",
   "metadata": {},
   "source": [
    "In this case we vary the coefficients $C_{p\\lambda}$. If the basis has infinitely many solutions, we need\n",
    "to truncate the above sum.  We assume that the basis $\\phi_{\\lambda}$ is orthogonal. A unitary transformation keeps the orthogonality, as discussed in exercise 1 below.\n",
    "\n",
    "\n",
    "\n",
    "## More on linear algebra\n",
    "In the previous slide we stated that a unitary transformation keeps the orthogonality, as discussed in exercise 1 below.  To see this consider first a basis of vectors $\\mathbf{v}_i$,"
   ]
  },
  {
   "cell_type": "markdown",
   "metadata": {},
   "source": [
    "$$\n",
    "\\mathbf{v}_i = \\begin{bmatrix} v_{i1} \\\\ \\dots \\\\ \\dots \\\\v_{in} \\end{bmatrix}\n",
    "$$"
   ]
  },
  {
   "cell_type": "markdown",
   "metadata": {},
   "source": [
    "We assume that the basis is orthogonal, that is"
   ]
  },
  {
   "cell_type": "markdown",
   "metadata": {},
   "source": [
    "$$\n",
    "\\mathbf{v}_j^T\\mathbf{v}_i = \\delta_{ij}.\n",
    "$$"
   ]
  },
  {
   "cell_type": "markdown",
   "metadata": {},
   "source": [
    "An orthogonal or unitary transformation"
   ]
  },
  {
   "cell_type": "markdown",
   "metadata": {},
   "source": [
    "$$\n",
    "\\mathbf{w}_i=\\mathbf{U}\\mathbf{v}_i,\n",
    "$$"
   ]
  },
  {
   "cell_type": "markdown",
   "metadata": {},
   "source": [
    "preserves the dot product and orthogonality since"
   ]
  },
  {
   "cell_type": "markdown",
   "metadata": {},
   "source": [
    "$$\n",
    "\\mathbf{w}_j^T\\mathbf{w}_i=(\\mathbf{U}\\mathbf{v}_j)^T\\mathbf{U}\\mathbf{v}_i=\\mathbf{v}_j^T\\mathbf{U}^T\\mathbf{U}\\mathbf{v}_i= \\mathbf{v}_j^T\\mathbf{v}_i = \\delta_{ij}.\n",
    "$$"
   ]
  },
  {
   "cell_type": "markdown",
   "metadata": {},
   "source": [
    "## Coefficients of a wave function expansion\n",
    "This means that if the coefficients $C_{p\\lambda}$ belong to a unitary or orthogonal trasformation (using the Dirac bra-ket notation)"
   ]
  },
  {
   "cell_type": "markdown",
   "metadata": {},
   "source": [
    "$$\n",
    "\\vert p\\rangle  = \\sum_{\\lambda} C_{p\\lambda}\\vert\\lambda\\rangle,\n",
    "$$"
   ]
  },
  {
   "cell_type": "markdown",
   "metadata": {},
   "source": [
    "orthogonality is preserved, that is $\\langle \\alpha \\vert \\beta\\rangle = \\delta_{\\alpha\\beta}$\n",
    "and $\\langle p \\vert q\\rangle = \\delta_{pq}$. \n",
    "\n",
    "This propertry is extremely useful when we build up a basis of many-body Stater determinant based states. \n",
    "\n",
    "**Note also that although a basis $\\vert \\alpha\\rangle$ contains an infinity of states, for practical calculations we have always to make some truncations.**\n",
    "\n",
    "\n",
    "\n",
    "\n",
    "\n",
    "## More Basic Matrix Features, simple $2 \\times 2$ determinant, useful property of determinants\n",
    "Before we develop the Hartree-Fock equations, there is another very useful property of determinants that we will use both in connection with Hartree-Fock calculations and later shell-model calculations.  \n",
    "\n",
    "Consider the following determinant"
   ]
  },
  {
   "cell_type": "markdown",
   "metadata": {},
   "source": [
    "$$\n",
    "\\left| \\begin{array}{cc} \\alpha_1b_{11}+\\alpha_2sb_{12}& a_{12}\\\\\n",
    "                         \\alpha_1b_{21}+\\alpha_2b_{22}&a_{22}\\end{array} \\right|=\\alpha_1\\left|\\begin{array}{cc} b_{11}& a_{12}\\\\\n",
    "                         b_{21}&a_{22}\\end{array} \\right|+\\alpha_2\\left| \\begin{array}{cc} b_{12}& a_{12}\\\\b_{22}&a_{22}\\end{array} \\right|\n",
    "$$"
   ]
  },
  {
   "cell_type": "markdown",
   "metadata": {},
   "source": [
    "## More Basic Matrix Features, $n \\times n$ determinant\n",
    "We can generalize this to  an $n\\times n$ matrix and have"
   ]
  },
  {
   "cell_type": "markdown",
   "metadata": {},
   "source": [
    "$$\n",
    "\\left| \\begin{array}{cccccc} a_{11}& a_{12} & \\dots & \\sum_{k=1}^n c_k b_{1k} &\\dots & a_{1n}\\\\\n",
    "a_{21}& a_{22} & \\dots & \\sum_{k=1}^n c_k b_{2k} &\\dots & a_{2n}\\\\\n",
    "\\dots & \\dots & \\dots & \\dots & \\dots & \\dots \\\\\n",
    "\\dots & \\dots & \\dots & \\dots & \\dots & \\dots \\\\\n",
    "a_{n1}& a_{n2} & \\dots & \\sum_{k=1}^n c_k b_{nk} &\\dots & a_{nn}\\end{array} \\right|=\n",
    "\\sum_{k=1}^n c_k\\left| \\begin{array}{cccccc} a_{11}& a_{12} & \\dots &  b_{1k} &\\dots & a_{1n}\\\\\n",
    "a_{21}& a_{22} & \\dots &  b_{2k} &\\dots & a_{2n}\\\\\n",
    "\\dots & \\dots & \\dots & \\dots & \\dots & \\dots\\\\\n",
    "\\dots & \\dots & \\dots & \\dots & \\dots & \\dots\\\\\n",
    "a_{n1}& a_{n2} & \\dots &  b_{nk} &\\dots & a_{nn}\\end{array} \\right| .\n",
    "$$"
   ]
  },
  {
   "cell_type": "markdown",
   "metadata": {},
   "source": [
    "This is a property we will use in our Hartree-Fock discussions.\n",
    "\n",
    "\n",
    "\n",
    "\n",
    "## More Basic Matrix Features, a general $n \\times n$ determinant\n",
    "We can generalize the previous results, now \n",
    "with all elements $a_{ij}$  being given as functions of \n",
    "linear combinations  of various coefficients $c$ and elements $b_{ij}$,"
   ]
  },
  {
   "cell_type": "markdown",
   "metadata": {},
   "source": [
    "$$\n",
    "\\left| \\begin{array}{cccccc} \\sum_{k=1}^n b_{1k}c_{k1}& \\sum_{k=1}^n b_{1k}c_{k2} & \\dots & \\sum_{k=1}^n b_{1k}c_{kj}  &\\dots & \\sum_{k=1}^n b_{1k}c_{kn}\\\\\n",
    "\\sum_{k=1}^n b_{2k}c_{k1}& \\sum_{k=1}^n b_{2k}c_{k2} & \\dots & \\sum_{k=1}^n b_{2k}c_{kj} &\\dots & \\sum_{k=1}^n b_{2k}c_{kn}\\\\\n",
    "\\dots & \\dots & \\dots & \\dots & \\dots & \\dots \\\\\n",
    "\\dots & \\dots & \\dots & \\dots & \\dots &\\dots \\\\\n",
    "\\sum_{k=1}^n b_{nk}c_{k1}& \\sum_{k=1}^n b_{nk}c_{k2} & \\dots & \\sum_{k=1}^n b_{nk}c_{kj} &\\dots & \\sum_{k=1}^n b_{nk}c_{kn}\\end{array} \\right|=det(\\mathbf{C})det(\\mathbf{B}),\n",
    "$$"
   ]
  },
  {
   "cell_type": "markdown",
   "metadata": {},
   "source": [
    "where $det(\\mathbf{C})$ and $det(\\mathbf{B})$ are the determinants of $n\\times n$ matrices\n",
    "with elements $c_{ij}$ and $b_{ij}$ respectively.  \n",
    "This is a property we will use in our Hartree-Fock discussions. Convince yourself about the correctness of the above expression by setting $n=2$.\n",
    "\n",
    "\n",
    "\n",
    "\n",
    "\n",
    "## A general Slater determinant\n",
    "With our definition of the new basis in terms of an orthogonal basis we have"
   ]
  },
  {
   "cell_type": "markdown",
   "metadata": {},
   "source": [
    "$$\n",
    "\\psi_p(x)  = \\sum_{\\lambda} C_{p\\lambda}\\phi_{\\lambda}(x).\n",
    "$$"
   ]
  },
  {
   "cell_type": "markdown",
   "metadata": {},
   "source": [
    "If the coefficients $C_{p\\lambda}$ belong to an orthogonal or unitary matrix, the new basis\n",
    "is also orthogonal. \n",
    "Our Slater determinant in the new basis $\\psi_p(x)$ is written as"
   ]
  },
  {
   "cell_type": "markdown",
   "metadata": {},
   "source": [
    "$$\n",
    "\\frac{1}{\\sqrt{A!}}\n",
    "\\left| \\begin{array}{ccccc} \\psi_{p}(x_1)& \\psi_{p}(x_2)& \\dots & \\dots & \\psi_{p}(x_A)\\\\\n",
    "                            \\psi_{q}(x_1)&\\psi_{q}(x_2)& \\dots & \\dots & \\psi_{q}(x_A)\\\\  \n",
    "                            \\dots & \\dots & \\dots & \\dots & \\dots \\\\\n",
    "                            \\dots & \\dots & \\dots & \\dots & \\dots \\\\\n",
    "                     \\psi_{t}(x_1)&\\psi_{t}(x_2)& \\dots & \\dots & \\psi_{t}(x_A)\\end{array} \\right|=\\frac{1}{\\sqrt{A!}}\n",
    "\\left| \\begin{array}{ccccc} \\sum_{\\lambda} C_{p\\lambda}\\phi_{\\lambda}(x_1)& \\sum_{\\lambda} C_{p\\lambda}\\phi_{\\lambda}(x_2)& \\dots & \\dots & \\sum_{\\lambda} C_{p\\lambda}\\phi_{\\lambda}(x_A)\\\\\n",
    "                            \\sum_{\\lambda} C_{q\\lambda}\\phi_{\\lambda}(x_1)&\\sum_{\\lambda} C_{q\\lambda}\\phi_{\\lambda}(x_2)& \\dots & \\dots & \\sum_{\\lambda} C_{q\\lambda}\\phi_{\\lambda}(x_A)\\\\  \n",
    "                            \\dots & \\dots & \\dots & \\dots & \\dots \\\\\n",
    "                            \\dots & \\dots & \\dots & \\dots & \\dots \\\\\n",
    "                     \\sum_{\\lambda} C_{t\\lambda}\\phi_{\\lambda}(x_1)&\\sum_{\\lambda} C_{t\\lambda}\\phi_{\\lambda}(x_2)& \\dots & \\dots & \\sum_{\\lambda} C_{t\\lambda}\\phi_{\\lambda}(x_A)\\end{array} \\right|,\n",
    "$$"
   ]
  },
  {
   "cell_type": "markdown",
   "metadata": {},
   "source": [
    "which is nothing but $det(\\mathbf{C})det(\\Phi)$, with $det(\\Phi)$ being the determinant given by the basis functions $\\phi_{\\lambda}(x)$.\n",
    "\n",
    "\n",
    "\n",
    "\n",
    "\n",
    "\n",
    "## Hartree-Fock by varying the coefficients of a wave function expansion\n",
    "It is normal to choose a single-particle basis defined as the eigenfunctions\n",
    "of parts of the full Hamiltonian. The typical situation consists of the solutions of the one-body part of the Hamiltonian, that is we have"
   ]
  },
  {
   "cell_type": "markdown",
   "metadata": {},
   "source": [
    "$$\n",
    "\\hat{h}_0\\phi_{\\lambda}=\\epsilon_{\\lambda}\\phi_{\\lambda}.\n",
    "$$"
   ]
  },
  {
   "cell_type": "markdown",
   "metadata": {},
   "source": [
    "The single-particle wave functions $\\phi_{\\lambda}({\\bf r})$, defined by the quantum numbers $\\lambda$ and ${\\bf r}$\n",
    "are defined as the overlap"
   ]
  },
  {
   "cell_type": "markdown",
   "metadata": {},
   "source": [
    "$$\n",
    "\\phi_{\\lambda}({\\bf r})  = \\langle {\\bf r} | \\lambda \\rangle .\n",
    "$$"
   ]
  },
  {
   "cell_type": "markdown",
   "metadata": {},
   "source": [
    "## Hartree-Fock by varying the coefficients of a wave function expansion\n",
    "In our discussions hereafter we will use our definitions of single-particle states above and below the Fermi ($F$) level given by the labels\n",
    "$ijkl\\dots \\le F$ for so-called single-hole states and $abcd\\dots > F$ for so-called particle states.\n",
    "For general single-particle states we employ the labels $pqrs\\dots$.\n",
    "\n",
    "\n",
    "\n",
    "\n",
    "## Hartree-Fock by varying the coefficients of a wave function expansion\n",
    "In Eq. ([FunctionalEPhi](#FunctionalEPhi)), restated here"
   ]
  },
  {
   "cell_type": "markdown",
   "metadata": {},
   "source": [
    "$$\n",
    "E[\\Phi] \n",
    "  = \\sum_{\\mu=1}^A \\langle \\mu | h | \\mu \\rangle +\n",
    "  \\frac{1}{2}\\sum_{{\\mu}=1}^A\\sum_{{\\nu}=1}^A \\langle \\mu\\nu|\\hat{v}|\\mu\\nu\\rangle_{AS},\n",
    "$$"
   ]
  },
  {
   "cell_type": "markdown",
   "metadata": {},
   "source": [
    "we found the expression for the energy functional in terms of the basis function $\\phi_{\\lambda}({\\bf r})$. We then  varied the above energy functional with respect to the basis functions $|\\mu \\rangle$. \n",
    "Now we are interested in defining a new basis defined in terms of\n",
    "a chosen basis as defined in Eq. ([eq:newbasis](#eq:newbasis)). We can then rewrite the energy functional as"
   ]
  },
  {
   "cell_type": "markdown",
   "metadata": {},
   "source": [
    "<!-- Equation labels as ordinary links -->\n",
    "<div id=\"FunctionalEPhi2\"></div>\n",
    "\n",
    "$$\n",
    "\\begin{equation}\n",
    "  E[\\Phi^{HF}] \n",
    "  = \\sum_{i=1}^A \\langle i | h | i \\rangle +\n",
    "  \\frac{1}{2}\\sum_{ij=1}^A\\langle ij|\\hat{v}|ij\\rangle_{AS}, \\label{FunctionalEPhi2} \\tag{14}\n",
    "\\end{equation}\n",
    "$$"
   ]
  },
  {
   "cell_type": "markdown",
   "metadata": {},
   "source": [
    "where $\\Phi^{HF}$ is the new Slater determinant defined by the new basis of Eq. ([eq:newbasis](#eq:newbasis)).\n",
    "\n",
    "\n",
    "\n",
    "## Hartree-Fock by varying the coefficients of a wave function expansion\n",
    "Using Eq. ([eq:newbasis](#eq:newbasis)) we can rewrite Eq. ([FunctionalEPhi2](#FunctionalEPhi2)) as"
   ]
  },
  {
   "cell_type": "markdown",
   "metadata": {},
   "source": [
    "<!-- Equation labels as ordinary links -->\n",
    "<div id=\"FunctionalEPhi3\"></div>\n",
    "\n",
    "$$\n",
    "\\begin{equation}\n",
    "  E[\\Psi] \n",
    "  = \\sum_{i=1}^A \\sum_{\\alpha\\beta} C^*_{i\\alpha}C_{i\\beta}\\langle \\alpha | h | \\beta \\rangle +\n",
    "  \\frac{1}{2}\\sum_{ij=1}^A\\sum_{{\\alpha\\beta\\gamma\\delta}} C^*_{i\\alpha}C^*_{j\\beta}C_{i\\gamma}C_{j\\delta}\\langle \\alpha\\beta|\\hat{v}|\\gamma\\delta\\rangle_{AS}. \\label{FunctionalEPhi3} \\tag{15}\n",
    "\\end{equation}\n",
    "$$"
   ]
  },
  {
   "cell_type": "markdown",
   "metadata": {},
   "source": [
    "## Hartree-Fock by varying the coefficients of a wave function expansion\n",
    "We wish now to minimize the above functional. We introduce again a set of Lagrange multipliers, noting that\n",
    "since $\\langle i | j \\rangle = \\delta_{i,j}$ and $\\langle \\alpha | \\beta \\rangle = \\delta_{\\alpha,\\beta}$, \n",
    "the coefficients $C_{i\\gamma}$ obey the relation"
   ]
  },
  {
   "cell_type": "markdown",
   "metadata": {},
   "source": [
    "$$\n",
    "\\langle i | j \\rangle=\\delta_{i,j}=\\sum_{\\alpha\\beta} C^*_{i\\alpha}C_{i\\beta}\\langle \\alpha | \\beta \\rangle=\n",
    "\\sum_{\\alpha} C^*_{i\\alpha}C_{i\\alpha},\n",
    "$$"
   ]
  },
  {
   "cell_type": "markdown",
   "metadata": {},
   "source": [
    "which allows us to define a functional to be minimized that reads"
   ]
  },
  {
   "cell_type": "markdown",
   "metadata": {},
   "source": [
    "<!-- Equation labels as ordinary links -->\n",
    "<div id=\"_auto2\"></div>\n",
    "\n",
    "$$\n",
    "\\begin{equation}\n",
    "  F[\\Phi^{HF}]=E[\\Phi^{HF}] - \\sum_{i=1}^A\\epsilon_i\\sum_{\\alpha} C^*_{i\\alpha}C_{i\\alpha}.\n",
    "\\label{_auto2} \\tag{16}\n",
    "\\end{equation}\n",
    "$$"
   ]
  },
  {
   "cell_type": "markdown",
   "metadata": {},
   "source": [
    "## Hartree-Fock by varying the coefficients of a wave function expansion\n",
    "Minimizing with respect to $C^*_{i\\alpha}$, remembering that the equations for $C^*_{i\\alpha}$ and $C_{i\\alpha}$\n",
    "can be written as two  independent equations, we obtain"
   ]
  },
  {
   "cell_type": "markdown",
   "metadata": {},
   "source": [
    "$$\n",
    "\\frac{d}{dC^*_{i\\alpha}}\\left[  E[\\Phi^{HF}] - \\sum_{j}\\epsilon_j\\sum_{\\alpha} C^*_{j\\alpha}C_{j\\alpha}\\right]=0,\n",
    "$$"
   ]
  },
  {
   "cell_type": "markdown",
   "metadata": {},
   "source": [
    "which yields for every single-particle state $i$ and index $\\alpha$ (recalling that the coefficients $C_{i\\alpha}$ are matrix elements of a unitary (or orthogonal for a real symmetric matrix) matrix)\n",
    "the following Hartree-Fock equations"
   ]
  },
  {
   "cell_type": "markdown",
   "metadata": {},
   "source": [
    "$$\n",
    "\\sum_{\\beta} C_{i\\beta}\\langle \\alpha | h | \\beta \\rangle+\n",
    "\\sum_{j=1}^A\\sum_{\\beta\\gamma\\delta} C^*_{j\\beta}C_{j\\delta}C_{i\\gamma}\\langle \\alpha\\beta|\\hat{v}|\\gamma\\delta\\rangle_{AS}=\\epsilon_i^{HF}C_{i\\alpha}.\n",
    "$$"
   ]
  },
  {
   "cell_type": "markdown",
   "metadata": {},
   "source": [
    "## Hartree-Fock by varying the coefficients of a wave function expansion\n",
    "We can rewrite this equation as (changing dummy variables)"
   ]
  },
  {
   "cell_type": "markdown",
   "metadata": {},
   "source": [
    "$$\n",
    "\\sum_{\\beta} \\left\\{\\langle \\alpha | h | \\beta \\rangle+\n",
    "\\sum_{j}^A\\sum_{\\gamma\\delta} C^*_{j\\gamma}C_{j\\delta}\\langle \\alpha\\gamma|\\hat{v}|\\beta\\delta\\rangle_{AS}\\right\\}C_{i\\beta}=\\epsilon_i^{HF}C_{i\\alpha}.\n",
    "$$"
   ]
  },
  {
   "cell_type": "markdown",
   "metadata": {},
   "source": [
    "Note that the sums over greek indices run over the number of basis set functions (in principle an infinite number).\n",
    "\n",
    "\n",
    "\n",
    "## Hartree-Fock by varying the coefficients of a wave function expansion\n",
    "Defining"
   ]
  },
  {
   "cell_type": "markdown",
   "metadata": {},
   "source": [
    "$$\n",
    "h_{\\alpha\\beta}^{HF}=\\langle \\alpha | h | \\beta \\rangle+\n",
    "\\sum_{j=1}^A\\sum_{\\gamma\\delta} C^*_{j\\gamma}C_{j\\delta}\\langle \\alpha\\gamma|\\hat{v}|\\beta\\delta\\rangle_{AS},\n",
    "$$"
   ]
  },
  {
   "cell_type": "markdown",
   "metadata": {},
   "source": [
    "we can rewrite the new equations as"
   ]
  },
  {
   "cell_type": "markdown",
   "metadata": {},
   "source": [
    "<!-- Equation labels as ordinary links -->\n",
    "<div id=\"eq:newhf\"></div>\n",
    "\n",
    "$$\n",
    "\\begin{equation}\n",
    "\\sum_{\\gamma}h_{\\alpha\\beta}^{HF}C_{i\\beta}=\\epsilon_i^{HF}C_{i\\alpha}. \\label{eq:newhf} \\tag{17}\n",
    "\\end{equation}\n",
    "$$"
   ]
  },
  {
   "cell_type": "markdown",
   "metadata": {},
   "source": [
    "The latter is nothing but a standard eigenvalue problem. \n",
    "\n",
    "It suffices to tabulate the matrix elements $\\langle \\alpha | h | \\beta \\rangle$ and $\\langle \\alpha\\gamma|\\hat{v}|\\beta\\delta\\rangle_{AS}$ once and for all. Successive iterations require thus only a look-up in tables over one-body and two-body matrix elements. These details will be discussed below when we solve the Hartree-Fock equations numerically.\n",
    "\n",
    "\n",
    "\n",
    "## Hartree-Fock algorithm\n",
    "Our Hartree-Fock matrix  is thus"
   ]
  },
  {
   "cell_type": "markdown",
   "metadata": {},
   "source": [
    "$$\n",
    "\\hat{h}_{\\alpha\\beta}^{HF}=\\langle \\alpha | \\hat{h}_0 | \\beta \\rangle+\n",
    "\\sum_{j=1}^A\\sum_{\\gamma\\delta} C^*_{j\\gamma}C_{j\\delta}\\langle \\alpha\\gamma|\\hat{v}|\\beta\\delta\\rangle_{AS}.\n",
    "$$"
   ]
  },
  {
   "cell_type": "markdown",
   "metadata": {},
   "source": [
    "The Hartree-Fock equations are solved in an iterative waym starting with a guess for the coefficients $C_{j\\gamma}=\\delta_{j,\\gamma}$ and solving the equations by diagonalization till the new single-particle energies\n",
    "$\\epsilon_i^{\\mathrm{HF}}$ do not change anymore by a prefixed quantity.\n",
    "\n",
    "\n",
    "\n",
    "## Hartree-Fock algorithm\n",
    "Normally we assume that the single-particle basis $|\\beta\\rangle$ forms an eigenbasis for the operator\n",
    "$\\hat{h}_0$, meaning that the Hartree-Fock matrix becomes"
   ]
  },
  {
   "cell_type": "markdown",
   "metadata": {},
   "source": [
    "$$\n",
    "\\hat{h}_{\\alpha\\beta}^{HF}=\\epsilon_{\\alpha}\\delta_{\\alpha,\\beta}+\n",
    "\\sum_{j=1}^A\\sum_{\\gamma\\delta} C^*_{j\\gamma}C_{j\\delta}\\langle \\alpha\\gamma|\\hat{v}|\\beta\\delta\\rangle_{AS}.\n",
    "$$"
   ]
  },
  {
   "cell_type": "markdown",
   "metadata": {},
   "source": [
    "The Hartree-Fock eigenvalue problem"
   ]
  },
  {
   "cell_type": "markdown",
   "metadata": {},
   "source": [
    "$$\n",
    "\\sum_{\\beta}\\hat{h}_{\\alpha\\beta}^{HF}C_{i\\beta}=\\epsilon_i^{\\mathrm{HF}}C_{i\\alpha},\n",
    "$$"
   ]
  },
  {
   "cell_type": "markdown",
   "metadata": {},
   "source": [
    "can be written out in a more compact form as"
   ]
  },
  {
   "cell_type": "markdown",
   "metadata": {},
   "source": [
    "$$\n",
    "\\hat{h}^{HF}\\hat{C}=\\epsilon^{\\mathrm{HF}}\\hat{C}.\n",
    "$$"
   ]
  },
  {
   "cell_type": "markdown",
   "metadata": {},
   "source": [
    "## Hartree-Fock algorithm\n",
    "The Hartree-Fock equations are, in their simplest form, solved in an iterative way, starting with a guess for the\n",
    "coefficients $C_{i\\alpha}$. We label the coefficients as $C_{i\\alpha}^{(n)}$, where the subscript $n$ stands for iteration $n$.\n",
    "To set up the algorithm we can proceed as follows:\n",
    "\n",
    " * We start with a guess $C_{i\\alpha}^{(0)}=\\delta_{i,\\alpha}$. Alternatively, we could have used random starting values as long as the vectors are normalized. Another possibility is to give states below the Fermi level a larger weight.\n",
    "\n",
    " * The Hartree-Fock matrix simplifies then to (assuming that the coefficients $C_{i\\alpha} $  are real)"
   ]
  },
  {
   "cell_type": "markdown",
   "metadata": {},
   "source": [
    "$$\n",
    "\\hat{h}_{\\alpha\\beta}^{HF}=\\epsilon_{\\alpha}\\delta_{\\alpha,\\beta}+\n",
    "\\sum_{j = 1}^A\\sum_{\\gamma\\delta} C_{j\\gamma}^{(0)}C_{j\\delta}^{(0)}\\langle \\alpha\\gamma|\\hat{v}|\\beta\\delta\\rangle_{AS}.\n",
    "$$"
   ]
  },
  {
   "cell_type": "markdown",
   "metadata": {},
   "source": [
    "## Hartree-Fock algorithm\n",
    "Solving the Hartree-Fock eigenvalue problem yields then new eigenvectors $C_{i\\alpha}^{(1)}$ and eigenvalues\n",
    "$\\epsilon_i^{HF(1)}$. \n",
    " * With the new eigenvalues we can set up a new Hartree-Fock potential"
   ]
  },
  {
   "cell_type": "markdown",
   "metadata": {},
   "source": [
    "$$\n",
    "\\sum_{j = 1}^A\\sum_{\\gamma\\delta} C_{j\\gamma}^{(1)}C_{j\\delta}^{(1)}\\langle \\alpha\\gamma|\\hat{v}|\\beta\\delta\\rangle_{AS}.\n",
    "$$"
   ]
  },
  {
   "cell_type": "markdown",
   "metadata": {},
   "source": [
    "The diagonalization with the new Hartree-Fock potential yields new eigenvectors and eigenvalues.\n",
    "This process is continued till for example"
   ]
  },
  {
   "cell_type": "markdown",
   "metadata": {},
   "source": [
    "$$\n",
    "\\frac{\\sum_{p} |\\epsilon_i^{(n)}-\\epsilon_i^{(n-1)}|}{m} \\le \\lambda,\n",
    "$$"
   ]
  },
  {
   "cell_type": "markdown",
   "metadata": {},
   "source": [
    "where $\\lambda$ is a user prefixed quantity ($\\lambda \\sim 10^{-8}$ or smaller) and $p$ runs over all calculated single-particle\n",
    "energies and $m$ is the number of single-particle states.\n",
    "\n",
    "\n",
    "\n",
    "## Analysis of Hartree-Fock equations and Koopman's theorem\n",
    "We can rewrite the ground state energy by adding and subtracting $\\hat{u}^{HF}(x_i)$"
   ]
  },
  {
   "cell_type": "markdown",
   "metadata": {},
   "source": [
    "$$\n",
    "E_0^{HF} =\\langle \\Phi_0 | \\hat{H} | \\Phi_0\\rangle = \n",
    "\\sum_{i\\le F}^A \\langle i | \\hat{h}_0 +\\hat{u}^{HF}| j\\rangle+ \\frac{1}{2}\\sum_{i\\le F}^A\\sum_{j \\le F}^A\\left[\\langle ij |\\hat{v}|ij \\rangle-\\langle ij|\\hat{v}|ji\\rangle\\right]-\\sum_{i\\le F}^A \\langle i |\\hat{u}^{HF}| i\\rangle,\n",
    "$$"
   ]
  },
  {
   "cell_type": "markdown",
   "metadata": {},
   "source": [
    "which results in"
   ]
  },
  {
   "cell_type": "markdown",
   "metadata": {},
   "source": [
    "$$\n",
    "E_0^{HF}\n",
    "  = \\sum_{i\\le F}^A \\varepsilon_i^{HF} + \\frac{1}{2}\\sum_{i\\le F}^A\\sum_{j \\le F}^A\\left[\\langle ij |\\hat{v}|ij \\rangle-\\langle ij|\\hat{v}|ji\\rangle\\right]-\\sum_{i\\le F}^A \\langle i |\\hat{u}^{HF}| i\\rangle.\n",
    "$$"
   ]
  },
  {
   "cell_type": "markdown",
   "metadata": {},
   "source": [
    "Our single-particle states $ijk\\dots$ are now single-particle states obtained from the solution of the Hartree-Fock equations.\n",
    "\n",
    "\n",
    "\n",
    "## Analysis of Hartree-Fock equations and Koopman's theorem\n",
    "Using our definition of the Hartree-Fock single-particle energies we obtain then the following expression for the total ground-state energy"
   ]
  },
  {
   "cell_type": "markdown",
   "metadata": {},
   "source": [
    "$$\n",
    "E_0^{HF}\n",
    "  = \\sum_{i\\le F}^A \\varepsilon_i - \\frac{1}{2}\\sum_{i\\le F}^A\\sum_{j \\le F}^A\\left[\\langle ij |\\hat{v}|ij \\rangle-\\langle ij|\\hat{v}|ji\\rangle\\right].\n",
    "$$"
   ]
  },
  {
   "cell_type": "markdown",
   "metadata": {},
   "source": [
    "This form will be used in our discussion of Koopman's theorem.\n",
    "\n",
    "\n",
    "\n",
    "## Analysis of Hartree-Fock equations and Koopman's theorem\n",
    "**Atomic physics case.**\n",
    "\n",
    "We have"
   ]
  },
  {
   "cell_type": "markdown",
   "metadata": {},
   "source": [
    "$$\n",
    "E[\\Phi^{\\mathrm{HF}}(N)] \n",
    "  = \\sum_{i=1}^H \\langle i | \\hat{h}_0 | i \\rangle +\n",
    "  \\frac{1}{2}\\sum_{ij=1}^N\\langle ij|\\hat{v}|ij\\rangle_{AS},\n",
    "$$"
   ]
  },
  {
   "cell_type": "markdown",
   "metadata": {},
   "source": [
    "where $\\Phi^{\\mathrm{HF}}(N)$ is the new Slater determinant defined by the new basis of Eq. ([eq:newbasis](#eq:newbasis))\n",
    "for $N$ electrons (same $Z$).  If we assume that the single-particle wave functions in the new basis do not change \n",
    "when we remove one electron or add one electron, we can then define the corresponding energy for the $N-1$ systems as"
   ]
  },
  {
   "cell_type": "markdown",
   "metadata": {},
   "source": [
    "$$\n",
    "E[\\Phi^{\\mathrm{HF}}(N-1)] \n",
    "  = \\sum_{i=1; i\\ne k}^N \\langle i | \\hat{h}_0 | i \\rangle +\n",
    "  \\frac{1}{2}\\sum_{ij=1;i,j\\ne k}^N\\langle ij|\\hat{v}|ij\\rangle_{AS},\n",
    "$$"
   ]
  },
  {
   "cell_type": "markdown",
   "metadata": {},
   "source": [
    "where we have removed a single-particle state $k\\le F$, that is a state below the Fermi level.\n",
    "\n",
    "\n",
    "\n",
    "## Analysis of Hartree-Fock equations and Koopman's theorem\n",
    "Calculating the difference"
   ]
  },
  {
   "cell_type": "markdown",
   "metadata": {},
   "source": [
    "$$\n",
    "E[\\Phi^{\\mathrm{HF}}(N)]-   E[\\Phi^{\\mathrm{HF}}(N-1)] = \\langle k | \\hat{h}_0 | k \\rangle +\n",
    "  \\frac{1}{2}\\sum_{i=1;i\\ne k}^N\\langle ik|\\hat{v}|ik\\rangle_{AS} + \\frac{1}{2}\\sum_{j=1;j\\ne k}^N\\langle kj|\\hat{v}|kj\\rangle_{AS},\n",
    "$$"
   ]
  },
  {
   "cell_type": "markdown",
   "metadata": {},
   "source": [
    "we obtain"
   ]
  },
  {
   "cell_type": "markdown",
   "metadata": {},
   "source": [
    "$$\n",
    "E[\\Phi^{\\mathrm{HF}}(N)]-   E[\\Phi^{\\mathrm{HF}}(N-1)] = \\langle k | \\hat{h}_0 | k \\rangle +\n",
    "  \\frac{1}{2}\\sum_{j=1}^N\\langle kj|\\hat{v}|kj\\rangle_{AS}\n",
    "$$"
   ]
  },
  {
   "cell_type": "markdown",
   "metadata": {},
   "source": [
    "which is just our definition of the Hartree-Fock single-particle energy"
   ]
  },
  {
   "cell_type": "markdown",
   "metadata": {},
   "source": [
    "$$\n",
    "E[\\Phi^{\\mathrm{HF}}(N)]-   E[\\Phi^{\\mathrm{HF}}(N-1)] = \\epsilon_k^{\\mathrm{HF}}\n",
    "$$"
   ]
  },
  {
   "cell_type": "markdown",
   "metadata": {},
   "source": [
    "## Analysis of Hartree-Fock equations and Koopman's theorem\n",
    "Similarly, we can now compute the difference (we label the single-particle states above the Fermi level as $abcd > F$)"
   ]
  },
  {
   "cell_type": "markdown",
   "metadata": {},
   "source": [
    "$$\n",
    "E[\\Phi^{\\mathrm{HF}}(N+1)]-   E[\\Phi^{\\mathrm{HF}}(N)]= \\epsilon_a^{\\mathrm{HF}}.\n",
    "$$"
   ]
  },
  {
   "cell_type": "markdown",
   "metadata": {},
   "source": [
    "These two equations can thus be used to the electron affinity or ionization energies, respectively. \n",
    "Koopman's theorem states that for example the ionization energy of a closed-shell system is given by the energy of the highest occupied single-particle state.  If we assume that changing the number of electrons from $N$ to $N+1$ does not change the Hartree-Fock single-particle energies and eigenfunctions, then Koopman's theorem simply states that the ionization energy of an atom is given by the single-particle energy of the last bound state. In a similar way, we can also define the electron affinities.\n",
    "\n",
    "\n",
    "\n",
    "## Analysis of Hartree-Fock equations and Koopman's theorem\n",
    "As an example, consider a simple model for atomic sodium, Na. Neutral sodium has eleven electrons, \n",
    "with the weakest bound one being confined the $3s$ single-particle quantum numbers. The energy needed to remove an electron from neutral sodium is rather small, 5.1391 eV, a feature which pertains to all alkali metals.\n",
    "Having performed a  Hartree-Fock calculation for neutral sodium would then allows us to compute the\n",
    "ionization energy by using the single-particle energy for the $3s$ states, namely $\\epsilon_{3s}^{\\mathrm{HF}}$. \n",
    "\n",
    "From these considerations, we see that Hartree-Fock theory allows us to make a connection between experimental \n",
    "observables (here ionization and affinity energies) and the underlying interactions between particles.  \n",
    "In this sense, we are now linking the dynamics and structure of a many-body system with the laws of motion which govern the system. Our approach is a reductionistic one, meaning that we want to understand the laws of motion \n",
    "in terms of the particles or degrees of freedom which we believe are the fundamental ones. Our Slater determinant, being constructed as the product of various single-particle functions, follows this philosophy.\n",
    "\n",
    "\n",
    "\n",
    "## Analysis of Hartree-Fock equations, Koopman's theorem\n",
    "With similar arguments as in atomic physics, we can now use Hartree-Fock theory to make a link\n",
    "between nuclear forces and separation energies. Changing to nuclear system, we define"
   ]
  },
  {
   "cell_type": "markdown",
   "metadata": {},
   "source": [
    "$$\n",
    "E[\\Phi^{\\mathrm{HF}}(A)] \n",
    "  = \\sum_{i=1}^A \\langle i | \\hat{h}_0 | i \\rangle +\n",
    "  \\frac{1}{2}\\sum_{ij=1}^A\\langle ij|\\hat{v}|ij\\rangle_{AS},\n",
    "$$"
   ]
  },
  {
   "cell_type": "markdown",
   "metadata": {},
   "source": [
    "where $\\Phi^{\\mathrm{HF}}(A)$ is the new Slater determinant defined by the new basis of Eq. ([eq:newbasis](#eq:newbasis))\n",
    "for $A$ nucleons, where $A=N+Z$, with $N$ now being the number of neutrons and $Z$ th enumber of protons.  If we assume again that the single-particle wave functions in the new basis do not change from a nucleus with $A$ nucleons to a nucleus with $A-1$  nucleons, we can then define the corresponding energy for the $A-1$ systems as"
   ]
  },
  {
   "cell_type": "markdown",
   "metadata": {},
   "source": [
    "$$\n",
    "E[\\Phi^{\\mathrm{HF}}(A-1)] \n",
    "  = \\sum_{i=1; i\\ne k}^A \\langle i | \\hat{h}_0 | i \\rangle +\n",
    "  \\frac{1}{2}\\sum_{ij=1;i,j\\ne k}^A\\langle ij|\\hat{v}|ij\\rangle_{AS},\n",
    "$$"
   ]
  },
  {
   "cell_type": "markdown",
   "metadata": {},
   "source": [
    "where we have removed a single-particle state $k\\le F$, that is a state below the Fermi level.\n",
    "\n",
    "\n",
    "\n",
    "## Analysis of Hartree-Fock equations and Koopman's theorem\n",
    "Calculating the difference"
   ]
  },
  {
   "cell_type": "markdown",
   "metadata": {},
   "source": [
    "$$\n",
    "E[\\Phi^{\\mathrm{HF}}(A)]-   E[\\Phi^{\\mathrm{HF}}(A-1)] \n",
    "  = \\langle k | \\hat{h}_0 | k \\rangle +\n",
    "  \\frac{1}{2}\\sum_{i=1;i\\ne k}^A\\langle ik|\\hat{v}|ik\\rangle_{AS} + \\frac{1}{2}\\sum_{j=1;j\\ne k}^A\\langle kj|\\hat{v}|kj\\rangle_{AS},\n",
    "$$"
   ]
  },
  {
   "cell_type": "markdown",
   "metadata": {},
   "source": [
    "which becomes"
   ]
  },
  {
   "cell_type": "markdown",
   "metadata": {},
   "source": [
    "$$\n",
    "E[\\Phi^{\\mathrm{HF}}(A)]-   E[\\Phi^{\\mathrm{HF}}(A-1)] \n",
    "  = \\langle k | \\hat{h}_0 | k \\rangle +\n",
    "  \\frac{1}{2}\\sum_{j=1}^A\\langle kj|\\hat{v}|kj\\rangle_{AS}\n",
    "$$"
   ]
  },
  {
   "cell_type": "markdown",
   "metadata": {},
   "source": [
    "which is just our definition of the Hartree-Fock single-particle energy"
   ]
  },
  {
   "cell_type": "markdown",
   "metadata": {},
   "source": [
    "$$\n",
    "E[\\Phi^{\\mathrm{HF}}(A)]-   E[\\Phi^{\\mathrm{HF}}(A-1)] \n",
    "  = \\epsilon_k^{\\mathrm{HF}}\n",
    "$$"
   ]
  },
  {
   "cell_type": "markdown",
   "metadata": {},
   "source": [
    "## Analysis of Hartree-Fock equations and Koopman's theorem\n",
    "Similarly, we can now compute the difference (recall that the single-particle states $abcd > F$)"
   ]
  },
  {
   "cell_type": "markdown",
   "metadata": {},
   "source": [
    "$$\n",
    "E[\\Phi^{\\mathrm{HF}}(A+1)]-   E[\\Phi^{\\mathrm{HF}}(A)]= \\epsilon_a^{\\mathrm{HF}}.\n",
    "$$"
   ]
  },
  {
   "cell_type": "markdown",
   "metadata": {},
   "source": [
    "If we then recall that the binding energy differences"
   ]
  },
  {
   "cell_type": "markdown",
   "metadata": {},
   "source": [
    "$$\n",
    "BE(A)-BE(A-1) \\hspace{0.5cm} \\mathrm{and} \\hspace{0.5cm} BE(A+1)-BE(A),\n",
    "$$"
   ]
  },
  {
   "cell_type": "markdown",
   "metadata": {},
   "source": [
    "define the separation energies, we see that the Hartree-Fock single-particle energies can be used to\n",
    "define separation energies. We have thus our first link between nuclear forces (included in the potential energy term) and an observable quantity defined by differences in binding energies.\n",
    "\n",
    "\n",
    "\n",
    "## Analysis of Hartree-Fock equations and Koopman's theorem\n",
    "We have thus the following interpretations (if the single-particle field do not change)"
   ]
  },
  {
   "cell_type": "markdown",
   "metadata": {},
   "source": [
    "$$\n",
    "BE(A)-BE(A-1)\\approx  E[\\Phi^{\\mathrm{HF}}(A)]-   E[\\Phi^{\\mathrm{HF}}(A-1)] \n",
    "  = \\epsilon_k^{\\mathrm{HF}},\n",
    "$$"
   ]
  },
  {
   "cell_type": "markdown",
   "metadata": {},
   "source": [
    "and"
   ]
  },
  {
   "cell_type": "markdown",
   "metadata": {},
   "source": [
    "$$\n",
    "BE(A+1)-BE(A)\\approx  E[\\Phi^{\\mathrm{HF}}(A+1)]-   E[\\Phi^{\\mathrm{HF}}(A)] =  \\epsilon_a^{\\mathrm{HF}}.\n",
    "$$"
   ]
  },
  {
   "cell_type": "markdown",
   "metadata": {},
   "source": [
    "If  we use ${}^{16}\\mbox{O}$ as our closed-shell nucleus, we could then interpret the separation energy"
   ]
  },
  {
   "cell_type": "markdown",
   "metadata": {},
   "source": [
    "$$\n",
    "BE(^{16}\\mathrm{O})-BE(^{15}\\mathrm{O})\\approx \\epsilon_{0p^{\\nu}_{1/2}}^{\\mathrm{HF}},\n",
    "$$"
   ]
  },
  {
   "cell_type": "markdown",
   "metadata": {},
   "source": [
    "and"
   ]
  },
  {
   "cell_type": "markdown",
   "metadata": {},
   "source": [
    "$$\n",
    "BE(^{16}\\mathrm{O})-BE(^{15}\\mathrm{N})\\approx \\epsilon_{0p^{\\pi}_{1/2}}^{\\mathrm{HF}}.\n",
    "$$"
   ]
  },
  {
   "cell_type": "markdown",
   "metadata": {},
   "source": [
    "## Analysis of Hartree-Fock equations and Koopman's theorem\n",
    "Similalry, we could interpret"
   ]
  },
  {
   "cell_type": "markdown",
   "metadata": {},
   "source": [
    "$$\n",
    "BE(^{17}\\mathrm{O})-BE(^{16}\\mathrm{O})\\approx \\epsilon_{0d^{\\nu}_{5/2}}^{\\mathrm{HF}},\n",
    "$$"
   ]
  },
  {
   "cell_type": "markdown",
   "metadata": {},
   "source": [
    "and"
   ]
  },
  {
   "cell_type": "markdown",
   "metadata": {},
   "source": [
    "$$\n",
    "BE(^{17}\\mathrm{F})-BE(^{16}\\mathrm{O})\\approx\\epsilon_{0d^{\\pi}_{5/2}}^{\\mathrm{HF}}.\n",
    "$$"
   ]
  },
  {
   "cell_type": "markdown",
   "metadata": {},
   "source": [
    "We can continue like this for all $A\\pm 1$ nuclei where $A$ is a good closed-shell (or subshell closure)\n",
    "nucleus. Examples are ${}^{22}\\mbox{O}$, ${}^{24}\\mbox{O}$, ${}^{40}\\mbox{Ca}$, ${}^{48}\\mbox{Ca}$, ${}^{52}\\mbox{Ca}$, ${}^{54}\\mbox{Ca}$, ${}^{56}\\mbox{Ni}$, \n",
    "${}^{68}\\mbox{Ni}$, ${}^{78}\\mbox{Ni}$, ${}^{90}\\mbox{Zr}$, ${}^{88}\\mbox{Sr}$, ${}^{100}\\mbox{Sn}$, ${}^{132}\\mbox{Sn}$ and ${}^{208}\\mbox{Pb}$, to mention some possile cases.\n",
    "\n",
    "\n",
    "\n",
    "## Analysis of Hartree-Fock equations and Koopman's theorem\n",
    "We can thus make our first interpretation of the separation energies in terms of the simplest\n",
    "possible many-body theory. \n",
    "If we also recall that the so-called energy gap for neutrons (or protons) is defined as"
   ]
  },
  {
   "cell_type": "markdown",
   "metadata": {},
   "source": [
    "$$\n",
    "\\Delta S_n= 2BE(N,Z)-BE(N-1,Z)-BE(N+1,Z),\n",
    "$$"
   ]
  },
  {
   "cell_type": "markdown",
   "metadata": {},
   "source": [
    "for neutrons and the corresponding gap for protons"
   ]
  },
  {
   "cell_type": "markdown",
   "metadata": {},
   "source": [
    "$$\n",
    "\\Delta S_p= 2BE(N,Z)-BE(N,Z-1)-BE(N,Z+1),\n",
    "$$"
   ]
  },
  {
   "cell_type": "markdown",
   "metadata": {},
   "source": [
    "we can define the neutron and proton energy gaps for ${}^{16}\\mbox{O}$ as"
   ]
  },
  {
   "cell_type": "markdown",
   "metadata": {},
   "source": [
    "$$\n",
    "\\Delta S_{\\nu}=\\epsilon_{0d^{\\nu}_{5/2}}^{\\mathrm{HF}}-\\epsilon_{0p^{\\nu}_{1/2}}^{\\mathrm{HF}},\n",
    "$$"
   ]
  },
  {
   "cell_type": "markdown",
   "metadata": {},
   "source": [
    "and"
   ]
  },
  {
   "cell_type": "markdown",
   "metadata": {},
   "source": [
    "$$\n",
    "\\Delta S_{\\pi}=\\epsilon_{0d^{\\pi}_{5/2}}^{\\mathrm{HF}}-\\epsilon_{0p^{\\pi}_{1/2}}^{\\mathrm{HF}}.\n",
    "$$"
   ]
  },
  {
   "cell_type": "markdown",
   "metadata": {},
   "source": [
    "<!-- --- begin exercise --- -->\n",
    "\n",
    "## Exercise 1: Hartree-Fock Slater determinant\n",
    "\n",
    "Consider a Slater determinant built up of orthogonal single-particle orbitals $\\psi_{\\lambda}$, \n",
    "with $\\lambda = 1,2,\\dots,A$.\n",
    "\n",
    "The unitary transformation"
   ]
  },
  {
   "cell_type": "markdown",
   "metadata": {},
   "source": [
    "$$\n",
    "\\psi_a  = \\sum_{\\lambda} C_{a\\lambda}\\phi_{\\lambda},\n",
    "$$"
   ]
  },
  {
   "cell_type": "markdown",
   "metadata": {},
   "source": [
    "brings us into the new basis.  \n",
    "The new basis has quantum numbers $a=1,2,\\dots,A$.\n",
    "\n",
    "\n",
    "**a)**\n",
    "Show that the new basis is orthogonal.\n",
    "\n",
    "**b)**\n",
    "Show that the new Slater determinant constructed from the new single-particle wave functions can be\n",
    "written as the determinant based on the previous basis and the determinant of the matrix $C$.\n",
    "\n",
    "**c)**\n",
    "Show that the old and the new Slater determinants are equal up to a complex constant with absolute value unity.\n",
    "\n",
    "<!-- --- begin hint in exercise --- -->\n",
    "\n",
    "**Hint.**\n",
    "Hint: $C$ is a unitary matrix.\n",
    "\n",
    "<!-- --- end hint in exercise --- -->\n",
    "\n",
    "\n",
    "\n",
    "\n",
    "\n",
    "\n",
    "\n",
    "<!-- --- end exercise --- -->\n",
    "\n",
    "\n",
    "## Developing a  Hartree-Fock program\n",
    "\n",
    "\n",
    "The\n",
    "single-particle energies obtained by solving the Hartree-Fock\n",
    "equations can be directly related to experimental separation\n",
    "energies.  Since Hartree-Fock theory is the starting point for\n",
    "several many-body techniques (density functional theory, random-phase\n",
    "approximation, shell-model etc), the aim here is to develop a computer\n",
    "program to solve the Hartree-Fock equations in a given single-particle basis,\n",
    "here the harmonic oscillator.\n",
    "\n",
    "\n",
    "## Developing a  Hartree-Fock program, the algorithm\n",
    "The Hartree-Fock algorithm can be broken down as follows. We recall that  our Hartree-Fock matrix  is"
   ]
  },
  {
   "cell_type": "markdown",
   "metadata": {},
   "source": [
    "$$\n",
    "\\hat{h}_{\\alpha\\beta}^{HF}=\\langle \\alpha \\vert\\hat{h}_0 \\vert \\beta \\rangle+\n",
    "\\sum_{j=1}^N\\sum_{\\gamma\\delta} C^*_{j\\gamma}C_{j\\delta}\\langle \\alpha\\gamma|V|\\beta\\delta\\rangle_{AS}.\n",
    "$$"
   ]
  },
  {
   "cell_type": "markdown",
   "metadata": {},
   "source": [
    "Normally we assume that the single-particle basis $\\vert\\beta\\rangle$\n",
    "forms an eigenbasis for the operator $\\hat{h}_0$ (this is our case), meaning that the\n",
    "Hartree-Fock matrix becomes"
   ]
  },
  {
   "cell_type": "markdown",
   "metadata": {},
   "source": [
    "$$\n",
    "\\hat{h}_{\\alpha\\beta}^{HF}=\\epsilon_{\\alpha}\\delta_{\\alpha,\\beta}+\n",
    "\\sum_{j=1}^N\\sum_{\\gamma\\delta} C^*_{j\\gamma}C_{j\\delta}\\langle \\alpha\\gamma|V|\\beta\\delta\\rangle_{AS}.\n",
    "$$"
   ]
  },
  {
   "cell_type": "markdown",
   "metadata": {},
   "source": [
    "The Hartree-Fock eigenvalue problem"
   ]
  },
  {
   "cell_type": "markdown",
   "metadata": {},
   "source": [
    "$$\n",
    "\\sum_{\\beta}\\hat{h}_{\\alpha\\beta}^{HF}C_{i\\beta}=\\epsilon_i^{\\mathrm{HF}}C_{i\\alpha},\n",
    "$$"
   ]
  },
  {
   "cell_type": "markdown",
   "metadata": {},
   "source": [
    "can be written out in a more compact form as"
   ]
  },
  {
   "cell_type": "markdown",
   "metadata": {},
   "source": [
    "$$\n",
    "\\hat{h}^{HF}\\hat{C}=\\epsilon^{\\mathrm{HF}}\\hat{C}.\n",
    "$$"
   ]
  },
  {
   "cell_type": "markdown",
   "metadata": {},
   "source": [
    "## Developing a  Hartree-Fock program, the density matrix\n",
    "\n",
    "The equations are often rewritten in terms of a so-called density matrix,\n",
    "which is defined as"
   ]
  },
  {
   "cell_type": "markdown",
   "metadata": {},
   "source": [
    "<!-- Equation labels as ordinary links -->\n",
    "<div id=\"_auto3\"></div>\n",
    "\n",
    "$$\n",
    "\\begin{equation}\n",
    "\\rho_{\\gamma\\delta}=\\sum_{i=1}^{N}\\langle\\gamma|i\\rangle\\langle i|\\delta\\rangle = \\sum_{i=1}^{N}C_{i\\gamma}C^*_{i\\delta}.\n",
    "\\label{_auto3} \\tag{18}\n",
    "\\end{equation}\n",
    "$$"
   ]
  },
  {
   "cell_type": "markdown",
   "metadata": {},
   "source": [
    "It means that we can rewrite the Hartree-Fock Hamiltonian as"
   ]
  },
  {
   "cell_type": "markdown",
   "metadata": {},
   "source": [
    "$$\n",
    "\\hat{h}_{\\alpha\\beta}^{HF}=\\epsilon_{\\alpha}\\delta_{\\alpha,\\beta}+\n",
    "\\sum_{\\gamma\\delta} \\rho_{\\gamma\\delta}\\langle \\alpha\\gamma|V|\\beta\\delta\\rangle_{AS}.\n",
    "$$"
   ]
  },
  {
   "cell_type": "markdown",
   "metadata": {},
   "source": [
    "It is convenient to use the density matrix since we can precalculate in every iteration the product of two eigenvector components $C$. \n",
    "\n",
    "## Developing a  Hartree-Fock program, additional considerations\n",
    "\n",
    "Note that $\\langle \\alpha\\vert\\hat{h}_0\\vert\\beta \\rangle$ denotes the\n",
    "matrix elements of the one-body part of the starting hamiltonian. For\n",
    "self-bound nuclei $\\langle \\alpha\\vert\\hat{h}_0\\vert\\beta \\rangle$ is the\n",
    "kinetic energy, whereas for neutron drops, $\\langle \\alpha \\vert \\hat{h}_0 \\vert \\beta \\rangle$ represents the harmonic oscillator hamiltonian since\n",
    "the system is confined in a harmonic trap. If we are working in a\n",
    "harmonic oscillator basis with the same $\\omega$ as the trapping\n",
    "potential, then $\\langle \\alpha\\vert\\hat{h}_0 \\vert \\beta \\rangle$ is\n",
    "diagonal.\n",
    "\n",
    "\n",
    "## [Developing a  Hartree-Fock program, a simple Python program](https://github.com/NuclearTalent/NuclearStructure/tree/master/doc/Programs/HFcode)\n",
    "\n",
    "An example of a function written in python which performs the Hartree-Fock calculation is shown here. In setting up your code you will need to write a function which sets up the single-particle basis, the matrix elements $t_{\\alpha\\gamma}$ of the one-body operator (called $h0$ in the function below) and the antisymmetrized TBMEs (called *nninteraction* in the code link below) and the density matrix elements $\\rho_{\\beta\\delta}$ (called *densityMatrix* below). \n",
    "The python program  shows how one can, in a brute force way read in matrix elements in $m$-scheme and compute the Hartree-Fock single-particle energies for four major shells. The interaction which has been used is the so-called N3LO interaction of [Machleidt and Entem](http://journals.aps.org/prc/abstract/10.1103/PhysRevC.68.041001)\n",
    "using the [Similarity Renormalization Group](http://journals.aps.org/prc/abstract/10.1103/PhysRevC.75.061001) approach method to renormalize the interaction, using an oscillator energy $\\hbar\\omega=10$ MeV. \n",
    "\n",
    "The nucleon-nucleon two-body matrix elements are in $m$-scheme and are fully anti-symmetrized. The Hartree-Fock programs uses the density matrix discussed above in order to compute the Hartree-Fock matrix.\n",
    "Here we display the Hartree-Fock part only, assuming that single-particle data and two-body matrix elements have already been read in. \n",
    "\n",
    "## Developing a  Hartree-Fock program, a simple Python program and input files\n",
    "\n",
    "\n",
    "The input file spdata.dat contains the information of all single-particle quantum numbers needed to define this space. In total we have $40$ single-particle states labeled by $n$, $j$, $l$ and $m$, where $m$ is the projection of the total single-particle angular momentum $j$. To every set of single-particle quantum numbers there is a unique number $p$ identifiying them, meaning that the two-body matrix elements in the file twobody.dat are identified as \n",
    "$\\langle pq \\vert \\hat{v}\\vert rs \\rangle$.\n",
    "\n",
    "You will need to read these two files and set up arrays which store the matrix elements while running the program.\n",
    "\n",
    "## [Developing a  Hartree-Fock program, the simple Python program](https://github.com/NuclearTalent/NuclearStructure/tree/master/doc/Programs/HFcode)"
   ]
  },
  {
   "cell_type": "code",
   "execution_count": 1,
   "metadata": {
    "collapsed": false
   },
   "outputs": [],
   "source": [
    "\t\"\"\" Star HF-iterations, preparing variables and density matrix \"\"\"\n",
    "\n",
    "        \"\"\" Coefficients for setting up density matrix, assuming only one along the diagonals \"\"\"\n",
    "\tC = np.eye(spOrbitals) # HF coefficients\n",
    "        DensityMatrix = np.zeros([spOrbitals,spOrbitals])\n",
    "        for gamma in range(spOrbitals):\n",
    "            for delta in range(spOrbitals):\n",
    "                sum = 0.0\n",
    "                for i in range(Nparticles):\n",
    "                    sum += C[gamma][i]*C[delta][i]\n",
    "                DensityMatrix[gamma][delta] = Decimal(sum)\n",
    "        maxHFiter = 100\n",
    "        epsilon =  1.0e-10 \n",
    "        difference = 1.0\n",
    "\thf_count = 0\n",
    "\toldenergies = np.zeros(spOrbitals)\n",
    "\tnewenergies = np.zeros(spOrbitals)\n",
    "\twhile hf_count < maxHFiter and difference > epsilon:\n",
    "\t\tprint \"############### Iteration %i ###############\" % hf_count\n",
    "   \t        HFmatrix = np.zeros([spOrbitals,spOrbitals])\t\t\n",
    "\t\tfor alpha in range(spOrbitals):\n",
    "\t\t\tfor beta in range(spOrbitals):\n",
    "                            \"\"\"  If tests for three-dimensional systems, including isospin conservation \"\"\"\n",
    "                            if l[alpha] != l[beta] and j[alpha] != j[beta] and mj[alpha] != mj[beta] and tz[alpha] != tz[beta]: continue\n",
    "                            \"\"\"  Setting up the Fock matrix using the density matrix and antisymmetrized NN interaction in m-scheme \"\"\"\n",
    "     \t\t            sumFockTerm = 0.0\n",
    "                            for gamma in range(spOrbitals):\n",
    "                                for delta in range(spOrbitals):\n",
    "                                    if (mj[alpha]+mj[gamma]) != (mj[beta]+mj[delta]) and (tz[alpha]+tz[gamma]) != (tz[beta]+tz[delta]): continue\n",
    "                                    sumFockTerm += DensityMatrix[gamma][delta]*nninteraction[alpha][gamma][beta][delta]\n",
    "                            HFmatrix[alpha][beta] = Decimal(sumFockTerm)\n",
    "                            \"\"\"  Adding the one-body term, here plain harmonic oscillator \"\"\"\n",
    "                            if beta == alpha:   HFmatrix[alpha][alpha] += singleparticleH[alpha]\n",
    "\t\tspenergies, C = np.linalg.eigh(HFmatrix)\n",
    "                \"\"\" Setting up new density matrix in m-scheme \"\"\"\n",
    "                DensityMatrix = np.zeros([spOrbitals,spOrbitals])\n",
    "                for gamma in range(spOrbitals):\n",
    "                    for delta in range(spOrbitals):\n",
    "                        sum = 0.0\n",
    "                        for i in range(Nparticles):\n",
    "                            sum += C[gamma][i]*C[delta][i]\n",
    "                        DensityMatrix[gamma][delta] = Decimal(sum)\n",
    "\t\tnewenergies = spenergies\n",
    "                \"\"\" Brute force computation of difference between previous and new sp HF energies \"\"\"\n",
    "                sum =0.0\n",
    "                for i in range(spOrbitals):\n",
    "                    sum += (abs(newenergies[i]-oldenergies[i]))/spOrbitals\n",
    "                difference = sum\n",
    "                oldenergies = newenergies\n",
    "                print \"Single-particle energies, ordering may have changed \"\n",
    "                for i in range(spOrbitals):\n",
    "                    print('{0:4d}  {1:.4f}'.format(i, Decimal(oldenergies[i])))\n",
    "\t\thf_count += 1"
   ]
  },
  {
   "cell_type": "markdown",
   "metadata": {},
   "source": [
    "## Developing a  Hartree-Fock program, analyzing the results\n",
    "\n",
    "Running the program, one finds that the lowest-lying states for a nucleus like ${}^{16}\\mbox{O}$, we see that the nucleon-nucleon force brings a natural spin-orbit splitting for the $0p$ states (or other states except the $s$-states).\n",
    "Since we are using the $m$-scheme for our calculations, we observe that there are several states with the same\n",
    "eigenvalues. The number of eigenvalues corresponds to the degeneracy $2j+1$ and is well respected in our calculations, as see from the table here.\n",
    "\n",
    "The values of the lowest-lying states are ($\\pi$ for protons and $\\nu$ for neutrons)\n",
    "<table border=\"1\">\n",
    "<thead>\n",
    "<tr><th align=\"center\">Quantum numbers </th> <th align=\"center\">Energy [MeV]</th> </tr>\n",
    "</thead>\n",
    "<tbody>\n",
    "<tr><td align=\"center\">   $0s_{1/2}^{\\pi}$    </td> <td align=\"center\">   -40.4602        </td> </tr>\n",
    "<tr><td align=\"center\">   $0s_{1/2}^{\\pi}$    </td> <td align=\"center\">   -40.4602        </td> </tr>\n",
    "<tr><td align=\"center\">   $0s_{1/2}^{\\nu}$    </td> <td align=\"center\">   -40.6426        </td> </tr>\n",
    "<tr><td align=\"center\">   $0s_{1/2}^{\\nu}$    </td> <td align=\"center\">   -40.6426        </td> </tr>\n",
    "<tr><td align=\"center\">   $0p_{1/2}^{\\pi}$    </td> <td align=\"center\">   -6.7133         </td> </tr>\n",
    "<tr><td align=\"center\">   $0p_{1/2}^{\\pi}$    </td> <td align=\"center\">   -6.7133         </td> </tr>\n",
    "<tr><td align=\"center\">   $0p_{1/2}^{\\nu}$    </td> <td align=\"center\">   -6.8403         </td> </tr>\n",
    "<tr><td align=\"center\">   $0p_{1/2}^{\\nu}$    </td> <td align=\"center\">   -6.8403         </td> </tr>\n",
    "<tr><td align=\"center\">   $0p_{3/2}^{\\pi}$    </td> <td align=\"center\">   -11.5886        </td> </tr>\n",
    "<tr><td align=\"center\">   $0p_{3/2}^{\\pi}$    </td> <td align=\"center\">   -11.5886        </td> </tr>\n",
    "<tr><td align=\"center\">   $0p_{3/2}^{\\pi}$    </td> <td align=\"center\">   -11.5886        </td> </tr>\n",
    "<tr><td align=\"center\">   $0p_{3/2}^{\\pi}$    </td> <td align=\"center\">   -11.5886        </td> </tr>\n",
    "<tr><td align=\"center\">   $0p_{3/2}^{\\nu}$    </td> <td align=\"center\">   -11.7201        </td> </tr>\n",
    "<tr><td align=\"center\">   $0p_{3/2}^{\\nu}$    </td> <td align=\"center\">   -11.7201        </td> </tr>\n",
    "<tr><td align=\"center\">   $0p_{3/2}^{\\nu}$    </td> <td align=\"center\">   -11.7201        </td> </tr>\n",
    "<tr><td align=\"center\">   $0p_{3/2}^{\\nu}$    </td> <td align=\"center\">   -11.7201        </td> </tr>\n",
    "<tr><td align=\"center\">   $0d_{5/2}^{\\pi}$    </td> <td align=\"center\">   18.7589         </td> </tr>\n",
    "<tr><td align=\"center\">   $0d_{5/2}^{\\nu}$    </td> <td align=\"center\">   18.8082         </td> </tr>\n",
    "</tbody>\n",
    "</table>\n",
    "\n",
    "## Developing a  Hartree-Fock program, separation energies\n",
    "\n",
    "We can use these results to attempt our first link with experimental data, namely to compute the shell gap or the separation energies. The shell gap for neutrons is given by"
   ]
  },
  {
   "cell_type": "markdown",
   "metadata": {},
   "source": [
    "$$\n",
    "\\Delta S_n= 2BE(N,Z)-BE(N-1,Z)-BE(N+1,Z).\n",
    "$$"
   ]
  },
  {
   "cell_type": "markdown",
   "metadata": {},
   "source": [
    "For ${}^{16}\\mbox{O}$  we have an experimental value for the  shell gap of $11.51$ MeV for neutrons, while our Hartree-Fock calculations result in $25.65$ MeV. This means that correlations beyond a simple Hartree-Fock calculation with a two-body force play an important role in nuclear physics.\n",
    "The splitting between the $0p_{3/2}^{\\nu}$ and the $0p_{1/2}^{\\nu}$ state is 4.88 MeV, while the experimental value for the gap between the ground state $1/2^{-}$ and the first excited $3/2^{-}$ states is 6.08 MeV. The two-nucleon spin-orbit force plays a central role here. In our discussion of nuclear forces we will see how the spin-orbit force comes into play here.\n",
    "\n",
    "## Analyzing the results in terms of the nuclear force components\n",
    "\n",
    "\n",
    "Our Hamiltonian contains one-body, two-body and three-body contributions and in \n",
    "the equations below, we  label states below the Fermi level $F$ as $i,j,\\ldots$ while states \n",
    "above the Fermi level are defined by $a,b,\\ldots$. General single-particle states\n",
    "are given by the letters  $p,q \\dots$. The\n",
    "quantities $pq\\dots$ represent the quantum numbers of various\n",
    "single-particle states, namely\n",
    "$p=(n_p,l_p,j_p,m_{j_p},t_{z_p})$.   \n",
    "The commutation relations for creation and annihilations operators with respect to\n",
    "a given reference state are then given by"
   ]
  },
  {
   "cell_type": "markdown",
   "metadata": {},
   "source": [
    "$$\n",
    "\\left\\{a_p^\\dagger, a_q \\right\\}= \\delta_{pq}, p, q \\leq F \\hspace{0.5cm} \\left\\{a_p, a_q^\\dagger \\right\\} =\n",
    "        \\delta_{pq}, p, q > F.\n",
    "$$"
   ]
  },
  {
   "cell_type": "markdown",
   "metadata": {},
   "source": [
    "## Reminder on definitions\n",
    "The action of the creation and annihilation operators with respect to a reference state $\\Phi_0$ are then given by\n",
    " $a_i|\\Phi_0\\rangle = |\\Phi_i\\rangle$ where a state labeled by $|\\Phi_i\\rangle$ means that a particle in a \n",
    "single-particle state $i$ has been removed. Similarly, we have $a_a^\\dagger|\\Phi_0\\rangle = |\\Phi^a\\rangle$, $a_i^\\dagger|\\Phi_0\\rangle = 0$ \n",
    "and $a_a|\\Phi_0\\rangle = 0$.  With the above definitions, we write our Hamiltonian as"
   ]
  },
  {
   "cell_type": "markdown",
   "metadata": {},
   "source": [
    "$$\n",
    "\\hat{H}=\\hat{H}_0+\\hat{V}+\\hat{W},\n",
    "$$"
   ]
  },
  {
   "cell_type": "markdown",
   "metadata": {},
   "source": [
    "where \n",
    "the single-particle part is given by"
   ]
  },
  {
   "cell_type": "markdown",
   "metadata": {},
   "source": [
    "$$\n",
    "\\hat{H}_0 = \\sum_{pq} \\langle p|\\hat{h}_0|q\\rangle a_p^\\dagger a_q.\n",
    "$$"
   ]
  },
  {
   "cell_type": "markdown",
   "metadata": {},
   "source": [
    "## A general Hamiltonian\n",
    "This part of the Hamiltonian is commonly defined in terms of some external potential like the three-dimensional \n",
    "harmonic oscillator or a particular mean-field basis. \n",
    "Similarly, the two-body part of the Hamiltonian\n",
    "is given by"
   ]
  },
  {
   "cell_type": "markdown",
   "metadata": {},
   "source": [
    "$$\n",
    "\\hat{V} = \\frac{1}{4}\\sum_{pqrs} \\langle pq|\\hat{v}|rs\\rangle_{\\mathrm{AS}} a_p^\\dagger a_q^\\dagger a_s a_r\n",
    "$$"
   ]
  },
  {
   "cell_type": "markdown",
   "metadata": {},
   "source": [
    "where we have employed antisymmetric matrix elements defined as"
   ]
  },
  {
   "cell_type": "markdown",
   "metadata": {},
   "source": [
    "$$\n",
    "\\langle pq|\\hat{v}|rs\\rangle_{\\mathrm{AS}}=\\langle pq|\\hat{v}|rs\\rangle-\\langle pq|\\hat{v}|sr\\rangle.\n",
    "$$"
   ]
  },
  {
   "cell_type": "markdown",
   "metadata": {},
   "source": [
    "We will assume that the  two-body operator $\\hat{v}$ is given by a nucleon-nucleon interaction.\n",
    "\n",
    "## Adding a three-body interaction\n",
    "Finally, the three-body part of our Hamiltonian operator  is defined by"
   ]
  },
  {
   "cell_type": "markdown",
   "metadata": {},
   "source": [
    "$$\n",
    "\\hat{W} =\\frac{1}{36} \\sum_{pqrstu} \\langle pqr|\\hat{w}|stu\\rangle_{\\mathrm{AS}}a_p^\\dagger a_q^\\dagger a_r^\\dagger a_u a_t a_s,\n",
    "$$"
   ]
  },
  {
   "cell_type": "markdown",
   "metadata": {},
   "source": [
    "where we have defined the antisymmetric matrix elements"
   ]
  },
  {
   "cell_type": "markdown",
   "metadata": {},
   "source": [
    "$$\n",
    "\\langle pqr|\\hat{w}|stu\\rangle_{\\mathrm{AS}}= \\langle pqr|\\hat{w}|stu\\rangle + \\langle pqr|\\hat{w}|tus\\rangle + \\langle pqr|\\hat{w}|ust\\rangle- \\langle pqr|\\hat{w}|sut\\rangle - \\langle pqr|\\hat{w}|tsu\\rangle - \\langle pqr|\\hat{w}|uts\\rangle.\n",
    "$$"
   ]
  },
  {
   "cell_type": "markdown",
   "metadata": {},
   "source": [
    "We will in the discussions to come drop the $\\mathrm{AS}$ subscript,\n",
    "assuming thereby that all matrix elements are antisymmetrized.\n",
    "\n",
    "## An additional reminder\n",
    "\n",
    "Introducing a reference state $|\\Phi_0\\rangle$ as our new vacuum state\n",
    "leads to a redefinition of the Hamiltonian in terms of a constant\n",
    "reference energy $E_0$ defined as"
   ]
  },
  {
   "cell_type": "markdown",
   "metadata": {},
   "source": [
    "$$\n",
    "E_0 = \\sum_{i\\le F}\\langle i | \\hat{h}_0|i\\rangle+\\frac{1}{2}\\sum_{ij\\le F} \\langle ij|\\hat{v}|ij\\rangle +\\frac{1}{6}\\sum_{ijk\\le F} \\langle ijk|\\hat{w}|ijk\\rangle,\n",
    "$$"
   ]
  },
  {
   "cell_type": "markdown",
   "metadata": {},
   "source": [
    "and a normal-ordered Hamiltonian"
   ]
  },
  {
   "cell_type": "markdown",
   "metadata": {},
   "source": [
    "$$\n",
    "\\hat{H}_N=\\sum_{pq}\\langle p|\\tilde{f}|q\\rangle a^\\dagger_p a_q+\\frac{1}{4} \\sum_{pqrs} \\langle pq|\\tilde{v}|rs\\rangle a^\\dagger_p a^\\dagger_q a_s  a_r +\\frac{1}{36} \\sum_{\\substack{pqr \\\\stu}}\n",
    "                 \\langle pqr|\\hat{w}|stu\\rangle a^\\dagger_p a^\\dagger_q a^\\dagger_r a_u a_t a_s\n",
    "$$"
   ]
  },
  {
   "cell_type": "markdown",
   "metadata": {},
   "source": [
    "where"
   ]
  },
  {
   "cell_type": "markdown",
   "metadata": {},
   "source": [
    "$$\n",
    "\\langle p| \\tilde{f}|q\\rangle = \\langle p|\\hat{h}_0|q\\rangle +\\sum_{i\\le F} \\langle pi|\\hat{v}|qi\\rangle+\\frac{1}{2}\\sum_{ij\\le\\alpha_F} \\langle pij|\\hat{w}|qij\\rangle,\n",
    "$$"
   ]
  },
  {
   "cell_type": "markdown",
   "metadata": {},
   "source": [
    "represents a correction to the single-particle operator $\\hat{h}_0$ due to contributions from the nucleons below the Fermi level.\n",
    "\n",
    "## Modification due to a three-body force\n",
    "The two-body matrix elements are now modified in order to account for medium-modified contributions from the three-body interaction, resulting in"
   ]
  },
  {
   "cell_type": "markdown",
   "metadata": {},
   "source": [
    "<!-- Equation labels as ordinary links -->\n",
    "<div id=\"eq:twobodyveff\"></div>\n",
    "\n",
    "$$\n",
    "\\begin{equation}\n",
    "\\langle pq|\\tilde{v}|rs\\rangle=\\langle pq|\\hat{v}|rs\\rangle+\\sum_{i\\le F} \\langle pqi|\\hat{w}|rsi\\rangle.\n",
    "\\label{eq:twobodyveff} \\tag{19}\n",
    "\\end{equation}\n",
    "$$"
   ]
  },
  {
   "cell_type": "markdown",
   "metadata": {},
   "source": [
    "In Eq. ([eq:twobodyveff](#eq:twobodyveff)), the effective two-body interaction\n",
    "$\\tilde{v}$ can contain both a standard two-nucleon interaction and a\n",
    "density dependent contribution stemming from a three-body interaction\n",
    "$\\hat{w}$.\n",
    "\n",
    "## The monopole term\n",
    "\n",
    "An important ingredient in studies of effective interactions and their\n",
    "applications to nuclear structure, is the so-called monopole\n",
    "interaction, normally defined in terms of a nucleon-nucleon\n",
    "interaction $\\hat{v}$"
   ]
  },
  {
   "cell_type": "markdown",
   "metadata": {},
   "source": [
    "<!-- Equation labels as ordinary links -->\n",
    "<div id=\"eq:monopole1\"></div>\n",
    "\n",
    "$$\n",
    "\\begin{equation}\n",
    "\\bar{V}_{\\alpha_p\\alpha_q} = \\frac{\\sum_{J}(2J+1) \\langle (\\alpha_p\\alpha_q)J | \\hat{v} | (\\alpha_p\\alpha_q)J \\rangle }{\\sum_{J}(2J+1)},\n",
    "\\label{eq:monopole1} \\tag{20}\n",
    "\\end{equation}\n",
    "$$"
   ]
  },
  {
   "cell_type": "markdown",
   "metadata": {},
   "source": [
    "where the total angular momentum of a two-body state $J$ runs over all\n",
    "possible values.  \n",
    "In the above equation we have defined a nucleon-nucleon interaction in a so-called angular-momentum \n",
    "coupled representation with the symbol $\\alpha_{p,q}$ representing all possible quantum numbers except the \n",
    "magnetic substates $m_{j_{p,q}}$\n",
    "The monopole Hamiltonian can be interpreted as an angle-averaged matrix element.  \n",
    "We have assumed that the single-particle angular momenta $j_p$ and $j_q$ couple to a total\n",
    "two-particle angular momentum $J$.  The summation over $J$ with the value $2J+1$ can be replaced\n",
    "by $\\sum_J(2J+1)=(2j_p+1)(2j_q+1)$ if $\\alpha_p\\ne \\alpha_q$. If $\\alpha_p=\\alpha_q$ we can generalize this equation to, assuming that \n",
    "our states can represent either protons or neutrons,"
   ]
  },
  {
   "cell_type": "markdown",
   "metadata": {},
   "source": [
    "<!-- Equation labels as ordinary links -->\n",
    "<div id=\"eq:jvalue\"></div>\n",
    "\n",
    "$$\n",
    "\\begin{equation}\n",
    "\\sum_{J}(2J+1)=(2j_p+1)(2j_q+1-\\delta_{\\alpha_p\\alpha_q}).\n",
    "\\label{eq:jvalue} \\tag{21}\n",
    "\\end{equation}\n",
    "$$"
   ]
  },
  {
   "cell_type": "markdown",
   "metadata": {},
   "source": [
    "## More on the monopole term\n",
    "\n",
    "The spherical single-particle states,\n",
    "provide an important ingredient for the formation of shells and\n",
    "interplay between spherical configurations and deformation in\n",
    "nuclei. Large shell gaps obtained from a monopole Hamiltonian are a\n",
    "prerequisite to obtain certain magic numbers. \n",
    "Equation ([eq:monopole1](#eq:monopole1)) can also be expressed in terms of the\n",
    "medium-modified two-body interaction defined in\n",
    "Eq. ([eq:twobodyveff](#eq:twobodyveff)), that is we can have"
   ]
  },
  {
   "cell_type": "markdown",
   "metadata": {},
   "source": [
    "<!-- Equation labels as ordinary links -->\n",
    "<div id=\"eq:monopole2\"></div>\n",
    "\n",
    "$$\n",
    "\\begin{equation}\n",
    "\\tilde{V}_{\\alpha_p\\alpha_q} = \\frac{\\sum_{J}(2J+1) \\langle (\\alpha_p\\alpha_q)J | \\tilde{v} | (\\alpha_p\\alpha_q)J \\rangle }{\\sum_{J}(2J+1)}.\n",
    "\\label{eq:monopole2} \\tag{22}\n",
    "\\end{equation}\n",
    "$$"
   ]
  },
  {
   "cell_type": "markdown",
   "metadata": {},
   "source": [
    "## Linking the monopole part with Hartree-Fock theory\n",
    "\n",
    "The single-particle energy $\\epsilon_p$ resulting from for example a self-consistent Hartree-Fock field, \n",
    "or from  first order in many-body perturbation theory, is given by (in an uncoupled basis)"
   ]
  },
  {
   "cell_type": "markdown",
   "metadata": {},
   "source": [
    "$$\n",
    "\\epsilon_p=\\langle p| \\tilde{f}|p\\rangle = \\langle p|\\hat{h}_0|p\\rangle +\\sum_{i\\le F} \\langle pi|\\hat{v}|pi\\rangle+\\frac{1}{2}\\sum_{ij\\le F} \\langle pij|\\hat{w}|pij\\rangle,\n",
    "$$"
   ]
  },
  {
   "cell_type": "markdown",
   "metadata": {},
   "source": [
    "where we have included the three-body interaction as well.\n",
    "\n",
    "## Linking the monopole part with Hartree-Fock theory, angular momentum\n",
    "We can rewrite this equation in an angular coupled basis ($jj$-coupled basis) as"
   ]
  },
  {
   "cell_type": "markdown",
   "metadata": {},
   "source": [
    "<!-- Equation labels as ordinary links -->\n",
    "<div id=\"eq:spequation1\"></div>\n",
    "\n",
    "$$\n",
    "\\begin{equation}\n",
    "\\epsilon_{\\alpha_p}= \\langle \\alpha_p|\\hat{h}_0|\\alpha_p\\rangle+\\frac{1}{2j_p+1}\\sum_{\\alpha_i\\le \\alpha_F}\\sum_{J} (2J+1)\\langle (\\alpha_p\\alpha_i)J | \\hat{v} | (\\alpha_p\\alpha_i)J \\rangle,\n",
    "\\label{eq:spequation1} \\tag{23}\n",
    "\\end{equation}\n",
    "$$"
   ]
  },
  {
   "cell_type": "markdown",
   "metadata": {},
   "source": [
    "or"
   ]
  },
  {
   "cell_type": "markdown",
   "metadata": {},
   "source": [
    "<!-- Equation labels as ordinary links -->\n",
    "<div id=\"eq:spequation2\"></div>\n",
    "\n",
    "$$\n",
    "\\begin{equation}\n",
    "\\epsilon_{\\alpha_p}= \\langle \\alpha_p|\\hat{h}_0|\\alpha_p\\rangle+\\frac{1}{2j_p+1}\\sum_{\\alpha_i\\le \\alpha_F}\\sum_{J} (2J+1)\\langle (\\alpha_p\\alpha_i)J | \\tilde{v} | (\\alpha_p\\alpha_i)J \\rangle,\n",
    "\\label{eq:spequation2} \\tag{24}\n",
    "\\end{equation}\n",
    "$$"
   ]
  },
  {
   "cell_type": "markdown",
   "metadata": {},
   "source": [
    "where the first equation contains a two-body force only while\n",
    "Eq. ([eq:spequation2](#eq:spequation2)) includes the medium-modified contribution\n",
    "from the three-body interaction as well. \n",
    "\n",
    "## Linking the monopole part with Hartree-Fock theory, more definitions\n",
    "\n",
    "In\n",
    "Eqs. ([eq:spequation1](#eq:spequation1)) and ([eq:spequation2](#eq:spequation2)), we have\n",
    "used a compact notation for the single-particle states, with the\n",
    "symbol $\\alpha_p$ etc representing all possible quantum numbers except\n",
    "the magnetic substates $m_{j_p}$, that is $\\alpha_p=(n_p,l_p,j_p,t_{z_p})$. The symbol $\\alpha_F$ stands now for\n",
    "all single-particle states up to the Fermi level, excluding again the\n",
    "magnetic substates.  In the above two-body interaction matrix elements\n",
    "$\\langle (\\alpha_p\\alpha_i)J | \\hat{v}(\\tilde{v}) |(\\alpha_p\\alpha_i)J \\rangle$ we have dropped additional quantum\n",
    "numbers like the isospin projection. Our interactions are diagonal in\n",
    "the projection of the total isospin but breaks both isospin symmetry\n",
    "and charge symmetry.\n",
    "\n",
    "\n",
    "## Final expressions for the monopole term\n",
    "\n",
    "Using the definition of the single-particle energy in\n",
    "Eq. ([eq:spequation1](#eq:spequation1)), the definition of the monopole matrix\n",
    "element in Eqs. ([eq:monopole1](#eq:monopole1)) or ([eq:monopole2](#eq:monopole2)) and Eq. ([eq:jvalue](#eq:jvalue)), we can rewrite\n",
    "Eq. ([eq:spequation1](#eq:spequation1)) as"
   ]
  },
  {
   "cell_type": "markdown",
   "metadata": {},
   "source": [
    "<!-- Equation labels as ordinary links -->\n",
    "<div id=\"eq:spmono1\"></div>\n",
    "\n",
    "$$\n",
    "\\begin{equation}\n",
    "\\epsilon_{\\alpha_{p}}=\\langle \\alpha_p|\\hat{h}_0|\\alpha_p\\rangle+\\sum_{\\alpha_i\\le \\alpha_F}N_{\\alpha_i}\\bar{V}_{\\alpha_p\\alpha_i},\n",
    "\\label{eq:spmono1} \\tag{25}\n",
    "\\end{equation}\n",
    "$$"
   ]
  },
  {
   "cell_type": "markdown",
   "metadata": {},
   "source": [
    "with $N_{\\alpha_i}=2\\alpha_i+1$, and Eq. ([eq:spequation2](#eq:spequation2)) as"
   ]
  },
  {
   "cell_type": "markdown",
   "metadata": {},
   "source": [
    "<!-- Equation labels as ordinary links -->\n",
    "<div id=\"eq:spmono2\"></div>\n",
    "\n",
    "$$\n",
    "\\begin{equation}\n",
    "\\epsilon_{\\alpha_{p}}=\\langle \\alpha_p|\\hat{h}_0|\\alpha_p\\rangle+\\sum_{\\alpha_i\\le \\alpha_F}N_{\\alpha_i}\\tilde{V}_{\\alpha_p\\alpha_i}.\n",
    "\\label{eq:spmono2} \\tag{26}\n",
    "\\end{equation}\n",
    "$$"
   ]
  },
  {
   "cell_type": "markdown",
   "metadata": {},
   "source": [
    "## Analyzing our results, decomposing the Hamiltonian\n",
    "\n",
    "The effective interaction is a\n",
    "scalar two-body operator. A general scalar two-body operator\n",
    "$\\hat{v}$ can be written as"
   ]
  },
  {
   "cell_type": "markdown",
   "metadata": {},
   "source": [
    "<!-- Equation labels as ordinary links -->\n",
    "<div id=\"_auto4\"></div>\n",
    "\n",
    "$$\n",
    "\\begin{equation}\n",
    "\\hat{v} = \\sum_{k} \\hat{v}_{k} = \\sum_{k} C^{(k)}\\cdot Q^{(k)},\n",
    "\\label{_auto4} \\tag{27}\n",
    "\\end{equation}\n",
    "$$"
   ]
  },
  {
   "cell_type": "markdown",
   "metadata": {},
   "source": [
    "where the operators $C^{(k)}$ and $Q^{(k)}$ are irreducible spherical tensor\n",
    "operators of rank $k$, acting in spin and coordinate space,\n",
    "respectively. The value of $k$ is limited to $k\\le 2$ since the total eigenspin of the two-nucleon\n",
    "system is either $0$ or $1$. The term with\n",
    "$k=0$ refers to the central component of the two-body\n",
    "operator.\n",
    "The values of $k=1$ and $k=2$ are called\n",
    "the vector and the tensor components, respectively. The vector term is also called the two-body spin-orbit term, although it\n",
    "also contains the anti-symmetric spin-orbit term.\n",
    "Using standard angular momentum algebra it is rather straightforward to relate the matrix elements  $\\hat{v}_{k}$ to\n",
    "those of say $\\hat{v}$ or $\\tilde{v}$. \n",
    "\n",
    "## Analyzing our results, decomposing the Hamiltonian\n",
    "\n",
    "One possible decomposition of the effective interaction is to\n",
    "express the $k$-th component of the interaction $\\langle\n",
    "(\\alpha_p\\alpha_q)J|\\hat{v}_{k}|(\\alpha_r\\alpha_s)J\\rangle $ in a $jj$-coupled basis, where\n",
    "$\\hat{v}_k$ is related to the matrix\n",
    "elements $\\langle (\\alpha_p\\alpha_q)J|\\hat{v}|(\\alpha_r\\alpha_s)J\\rangle $ (or $\\langle (\\alpha_p\\alpha_q)J|\\tilde{v}|(\\alpha_r\\alpha_s)J\\rangle $ \n",
    "through the relation"
   ]
  },
  {
   "cell_type": "markdown",
   "metadata": {},
   "source": [
    "$$\n",
    "\\langle (\\alpha_p\\alpha_q)J|\\hat{v}_{k}|(\\alpha_r\\alpha_s)J\\rangle=(-1)^{J}(2k+1)\n",
    "\\sum_{LL'SS'}\\langle\n",
    "\\alpha_p\\alpha_q|LSJ\\rangle \\langle \\alpha_r\\alpha_s|L'S'J\\rangle\n",
    "\\left\\{ \\begin{array}{ccc}\n",
    "\t\t       L&S&J\\\\\n",
    "\t\t       S'&L'&k\n",
    "\t\t       \\end{array}\n",
    "\t\t \\right\\} \\nonumber\n",
    "$$"
   ]
  },
  {
   "cell_type": "markdown",
   "metadata": {},
   "source": [
    "$$\n",
    "&\\times \\sum_{J'}(-1)^{J'}(2J'+1)\\left\\{ \\begin{array}{ccc}\n",
    "\t\t       L&S&J'\\\\\n",
    "\t\t       S'&L'&k\n",
    "\t\t       \\end{array}\n",
    "\t\t \\right\\}\n",
    "\\sum_{\\alpha_{p}'\\alpha_{q}'\\alpha_{r}'\\alpha_{s}'}\\langle \\alpha_p'\\alpha_q'|LSJ'\\rangle\n",
    "\\nonumber\n",
    "$$"
   ]
  },
  {
   "cell_type": "markdown",
   "metadata": {},
   "source": [
    "<!-- Equation labels as ordinary links -->\n",
    "<div id=\"eq:jj\"></div>\n",
    "\n",
    "$$\n",
    "\\begin{equation} \n",
    " \\times \\langle \\alpha_r'\\alpha_s'|L'S'J'\\rangle \\langle\n",
    "(\\alpha_p'\\alpha_q')J'|\\hat{v}|(\\alpha_r'\\alpha_s')J'\\rangle .  \\label{eq:jj} \\tag{28}\n",
    "\\end{equation}\n",
    "$$"
   ]
  },
  {
   "cell_type": "markdown",
   "metadata": {},
   "source": [
    "## Analyzing our results, decomposing the Hamiltonian\n",
    "\n",
    "The two-particle matrix elements are normalized and antisymmetrized.\n",
    "A similar expression applies to the medium-modified two-body interaction $\\tilde{v}$ of \n",
    "Eq. ([eq:twobodyveff](#eq:twobodyveff)) as well.\n",
    "The symbol $\\langle \\alpha_p\\alpha_q|LSJ \\rangle $ is a shorthand\n",
    "for the $LS-jj$ transformation coefficient,"
   ]
  },
  {
   "cell_type": "markdown",
   "metadata": {},
   "source": [
    "$$\n",
    "\\langle \\alpha_p\\alpha_q|\\lambda SJ \\rangle = \\sqrt{(2j_{p}+1)(2j_{q}+1)(2\\lambda+1)(2S+1)}\n",
    "\\left\\{\n",
    "\\begin{array}{ccc}\n",
    "       l_{p}&\\frac{1}{2}&j_{p}\\\\\n",
    "       l_{q}&\\frac{1}{2}&j_{q}\\\\\n",
    "       \\lambda    &S          &J\n",
    "\\end{array}\n",
    "\\right\\}\n",
    "$$"
   ]
  },
  {
   "cell_type": "markdown",
   "metadata": {},
   "source": [
    "## Analyzing our results, decomposing the Hamiltonian\n",
    "The transformation from an $LS$ basis to a $jj$-coupled scheme is then given by the relation"
   ]
  },
  {
   "cell_type": "markdown",
   "metadata": {},
   "source": [
    "$$\n",
    "|(\\alpha_p\\alpha_q)J\\rangle  = \\sum_{LS}\\langle \\alpha_p\\alpha_q|LSJ \\rangle |(\\tilde{\\alpha}_p\\tilde{\\alpha}_q)LSJ\\rangle,\n",
    "$$"
   ]
  },
  {
   "cell_type": "markdown",
   "metadata": {},
   "source": [
    "where the symbol like $\\tilde{\\alpha}_{p}$ refers to the quantum numbers in an $LS$ basis, that is\n",
    "$\\tilde{\\alpha}_{p}=(n_{p},l_{p},s_{p},t_{z_{p}})$.\n",
    "\n",
    "To derive Eq. ([eq:jj](#eq:jj)), we have used the fact that the two-body\n",
    "matrix elements of $\\hat{v}_k$ can also be interpreted in the\n",
    "representation of the $LS$-coupling scheme. \n",
    "\n",
    "## Analyzing our results, decomposing the Hamiltonian\n",
    "Similar to the\n",
    "decomposition in the $jj$-scheme, the $LS$-coupled matrix element of a\n",
    "given component $k$ $\\langle(\\tilde{\\alpha}_p\\tilde{\\alpha}_q)LSJ'T\\vert \\hat{v}_{k}\\vert (\\tilde{\\alpha}_r\\tilde{\\alpha}_s )LSJ'T\\rangle $\n",
    "are related to the corresponding matrix elements of the total\n",
    "interaction in the $jj$-scheme by"
   ]
  },
  {
   "cell_type": "markdown",
   "metadata": {},
   "source": [
    "$$\n",
    "\\begin{array}{ll}\n",
    "&\\\\\n",
    "\\langle(\\tilde{\\alpha}_p\\tilde{\\alpha}_q )LSJ'T\\vert\\hat{v}_{k}\\vert (\\tilde{\\alpha}_r\\tilde{\\alpha}_s )L'S'J'T\\rangle&=\n",
    "{\\displaystyle\\frac{1}{\\sqrt{(1+\\delta_{\\tilde{\\alpha}_p\\tilde{\\alpha}_q})(1+\\delta_{\\tilde{\\alpha}_r\\tilde{\\alpha}_s})}}}\n",
    "(-1)^{J'}\\hat{k}\\left\\{\\begin{array}{ccc}L&S&J'\\\\S'&L'&k\n",
    "\\end{array}\\right\\}\n",
    "\\\\&\\\\\n",
    "&\\times {\\displaystyle\\sum_{J}}(-1)^{J}\\hat{J}\\left\\{\\begin{array}{ccc}L&S&J\\\\S'&L'&k\n",
    "\\end{array}\\right\\}\n",
    "{\\displaystyle \\sum_{\\alpha_p \\alpha_q \\alpha_r \\alpha_s}}\n",
    "\\langle \\alpha_p\\alpha_q|LSJ\\rangle\n",
    "\\langle \\alpha_r\\alpha_s|L'S'J\\rangle\n",
    "\\\\&\\\\\n",
    "&\\times\\sqrt{(1+\\delta_{\\alpha_p\\alpha_q})(1+\\delta_{\\alpha_r\\alpha_s})}\\langle(\\alpha_p\\alpha_q)JT\\vert\\hat{v}\\vert (\\alpha_r\\alpha_s)JT\\rangle\n",
    ".\\end{array}\n",
    "$$"
   ]
  }
 ],
 "metadata": {},
 "nbformat": 4,
 "nbformat_minor": 0
}
