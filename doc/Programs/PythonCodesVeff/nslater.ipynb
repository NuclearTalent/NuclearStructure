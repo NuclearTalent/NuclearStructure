{
 "cells": [
  {
   "cell_type": "code",
   "execution_count": 11,
   "metadata": {
    "collapsed": true
   },
   "outputs": [],
   "source": [
    "import matplotlib\n",
    "import numpy as np\n",
    "import matplotlib.pyplot as plt\n",
    "from matplotlib import rc\n",
    "rc('text', usetex=True)\n",
    "\n",
    "def binomial(n, k):\n",
    "    uvector = np.array(range(k+1, n+1))\n",
    "    lvector = np.array(range(1, n-k+1))\n",
    "    \n",
    "    return np.e**(np.log(uvector).sum() - np.log(lvector).sum())"
   ]
  },
  {
   "cell_type": "code",
   "execution_count": 14,
   "metadata": {
    "collapsed": false
   },
   "outputs": [],
   "source": [
    "he4 = (2, 2)\n",
    "c12 = (6,6)\n",
    "o16 = (8,8)\n",
    "ca40 = (20,20)\n",
    "nuclei = [he4, c12, o16, ca40]\n",
    "labels = [r\"${}^4$He\", r\"${}^{12}$C\", r\"${}^{16}$O\", r\"${}^{40}$Ca\"]\n",
    "\n",
    "x = range(1, 201)"
   ]
  },
  {
   "cell_type": "code",
   "execution_count": 16,
   "metadata": {
    "collapsed": true
   },
   "outputs": [],
   "source": [
    "for label, nucleus in zip(labels, nuclei):\n",
    "    p = np.array([binomial(n, nucleus[0]) for n in x])\n",
    "    n = p = np.array([binomial(n, nucleus[1]) for n in x])\n",
    "    y = p*n\n",
    "    plt.plot(x, y, linewidth=2, label=label)\n",
    "plt.xlabel('Number of single particle states', fontsize=18)\n",
    "plt.ylabel('Number of Slater determinants', fontsize=18)\n",
    "plt.legend(loc=2)\n",
    "plt.tight_layout()\n",
    "plt.yscale('log')\n",
    "plt.savefig(\"slater_determinants.pdf\")\n",
    "plt.show()"
   ]
  },
  {
   "cell_type": "code",
   "execution_count": null,
   "metadata": {
    "collapsed": true
   },
   "outputs": [],
   "source": []
  }
 ],
 "metadata": {
  "kernelspec": {
   "display_name": "Python 2",
   "language": "python",
   "name": "python2"
  },
  "language_info": {
   "codemirror_mode": {
    "name": "ipython",
    "version": 2
   },
   "file_extension": ".py",
   "mimetype": "text/x-python",
   "name": "python",
   "nbconvert_exporter": "python",
   "pygments_lexer": "ipython2",
   "version": "2.7.12"
  }
 },
 "nbformat": 4,
 "nbformat_minor": 0
}
